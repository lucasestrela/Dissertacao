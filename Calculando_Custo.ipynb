{
  "nbformat": 4,
  "nbformat_minor": 0,
  "metadata": {
    "colab": {
      "name": "Calculando_Custo.ipynb",
      "provenance": [],
      "include_colab_link": true
    },
    "kernelspec": {
      "display_name": "Python 3",
      "language": "python",
      "name": "python3"
    },
    "language_info": {
      "codemirror_mode": {
        "name": "ipython",
        "version": 3
      },
      "file_extension": ".py",
      "mimetype": "text/x-python",
      "name": "python",
      "nbconvert_exporter": "python",
      "pygments_lexer": "ipython3",
      "version": "3.8.5"
    }
  },
  "cells": [
    {
      "cell_type": "markdown",
      "metadata": {
        "id": "view-in-github",
        "colab_type": "text"
      },
      "source": [
        "<a href=\"https://colab.research.google.com/github/lucasestrela/Dissertacao/blob/main/Calculando_Custo.ipynb\" target=\"_parent\"><img src=\"https://colab.research.google.com/assets/colab-badge.svg\" alt=\"Open In Colab\"/></a>"
      ]
    },
    {
      "cell_type": "markdown",
      "metadata": {
        "id": "P8BB8YRb8svw"
      },
      "source": [
        "# 1) Importanto Pacotes"
      ]
    },
    {
      "cell_type": "code",
      "metadata": {
        "id": "xzxiDzCEzVP_"
      },
      "source": [
        "#!pip install statsmodels --upgrade"
      ],
      "execution_count": 2,
      "outputs": []
    },
    {
      "cell_type": "code",
      "metadata": {
        "id": "TgU1ug2Z8pQI"
      },
      "source": [
        "import numpy as np\n",
        "import pandas as pd # Para manipular os dados\n",
        "import warnings\n",
        "from statsmodels.tsa.arima_model import ARMA # Versao antiga da fç\n",
        "from statsmodels.tsa.arima.model import ARIMA \n",
        "from statsmodels.tsa.stattools import arma_order_select_ic\n",
        "import matplotlib.pyplot as plt\n",
        "import seaborn as sns\n",
        "from google.colab import files\n",
        "\n",
        "warnings.filterwarnings('ignore')"
      ],
      "execution_count": 38,
      "outputs": []
    },
    {
      "cell_type": "markdown",
      "metadata": {
        "id": "cQkKK1ER8zFz"
      },
      "source": [
        "# 2) Definindo Funções\n",
        "\n",
        "As funções abaixo se referem:\n",
        "\n",
        "a) *calculate_best_arima()* : Calcula o melhor ARMA(p,q) para um dado *dataframe* e retorna a 1) tabela de regressão; 2) (p,q); 3) Os valores dos coeficientes AR e MA; 3) Variância do erro desta regressão;\n",
        "\n",
        "b) *ma_infinite_representation2()* : Para um dado ARMA(p,q) faz a inversão para um MA($\\infty$) truncado em T (grande);\n",
        "\n",
        "c) *matriz_custo()* : Para um dado MA($\\infty$), variância do erro, e grids do desconto intertemporal $\\rho$ e aversão relativa ao risco $\\gamma$, calcula o custo de bem estar"
      ]
    },
    {
      "cell_type": "code",
      "metadata": {
        "id": "0HZX-3DO8r2P"
      },
      "source": [
        "###################################################\n",
        "############## --- Funcoes uteis --- ##############\n",
        "###################################################\n",
        "\n",
        "\n",
        "def calculate_best_arima(data_frame):\n",
        "    # Seleciono o melhor (p,q) usando criterio de selecao Bayesiano\n",
        "    # max (5, 5) provisoriamente\n",
        "    res1 = arma_order_select_ic(data_frame,\n",
        "                                max_ar = 3, max_ma = 4, \n",
        "                                ic = ['bic'],\n",
        "                                fit_kw={'method':'css-mle'},\n",
        "                                trend = 'c'\n",
        "                                )\n",
        "    \n",
        "\n",
        "    model = ARMA(data_frame, \n",
        "                 order = (res1.bic_min_order[0], res1.bic_min_order[1])\n",
        "                 )\n",
        "    \n",
        "    res = model.fit(transparams = False, \n",
        "                    disp=0\n",
        "                    ) \n",
        "\n",
        "    \n",
        "    AR, MA = res.arparams, res.maparams\n",
        "    \n",
        "    \n",
        "    var = sum( (newdf - res.predict())**2 )/(len(newdf) - 5)\n",
        "    \n",
        "    return res, res1.bic_min_order, AR, MA, var\n",
        "    \n",
        "\n",
        "def ma_infinite_representation2(AR, MA, T = 10000):\n",
        "\n",
        "    Pol = np.zeros(T)\n",
        "    \n",
        "    if len(MA) == 0:\n",
        "        MA = [0]\n",
        "        \n",
        "    if len(AR) == 0:\n",
        "        AR = [0]\n",
        "    \n",
        "    \n",
        "    \n",
        "    # O que quero construir:\n",
        "    Pol[0] = 1\n",
        "    Pol[1] = MA[0] + AR[0]\n",
        "    # Pol[2] = MA[1] + AR[1]*Pol[0] + AR[0]*Pol[1]\n",
        "    # Pol[3] = MA[2] + AR[2]*Pol[0] + AR[1]*Pol[1] + AR[0]*Pol[2]\n",
        "    # Pol[4] = MA[3] + AR[3]*Pol[0] + AR[2]*Pol[1] + AR[1]*Pol[2] + AR[0]*Pol[3]\n",
        "    # Pol[5] = MA[4] + AR[4]*Pol[0] + AR[3]*Pol[1] + AR[2]*Pol[2] + AR[1]*Pol[3] + AR[0]*Pol[4]\n",
        "        \n",
        "\n",
        "    # Podem, pode surgir problema de dimensionalidade dos coeficientes\n",
        "    # ex. ARMA(0,0) ou MA(1).. Entao completo as dimensões restantes\n",
        "    # do ARMA como 0, ja que os coef são, de fato, zero.\n",
        "    \n",
        "    AR_teste = np.append(AR, np.zeros(T-len(AR)\n",
        "                                      )\n",
        "                         )\n",
        "       \n",
        "    MA_teste = np.append(MA, np.zeros(T-len(MA)\n",
        "                                      )\n",
        "                         )\n",
        "\n",
        "\n",
        "    for i in range(2, T):\n",
        "          \n",
        "        \n",
        "        # i = 6\n",
        "        \n",
        "        # Virando de tras pra frente\n",
        "        AR_m = np.flip(AR_teste[0:i])\n",
        "        \n",
        "        # Calculando o iesimo termo\n",
        "        Pol[i] = MA_teste[i - 1] + np.dot(Pol[0:i], AR_m)\n",
        "\n",
        "    return Pol\n",
        "\n",
        "\n",
        "def matriz_custo( MA_inf, var_u, Rho = np.array([0.03, 0.02, 0.01]), Gamma = np.array([1, 3, 5]), T = 10000):\n",
        "    \n",
        "    lambda_ARMA = np.zeros(\n",
        "                          ( len(Rho),len(Gamma) )\n",
        "                          )\n",
        "    \n",
        "    Exp = np.zeros(T)\n",
        "\n",
        "    Acumulado = np.cumsum(MA_inf**2)\n",
        "    Acumulado = np.cumsum(Acumulado)\n",
        "    \n",
        "    \n",
        "    for i in range(0, len(Rho)):   \n",
        "        for j in range(0, len(Gamma)):   \n",
        "            for t in range(0, T):\n",
        "                \n",
        "                Exp[t] = np.exp(-Rho[i]*t)\n",
        "                \n",
        "        \n",
        "            if Gamma[j] < 1.1:\n",
        "                    \n",
        "                Soma = np.dot(Exp, Acumulado)\n",
        "                \n",
        "                # Exp(1) no matlab retorna 2.7183. No numpy 2.718281828459045\n",
        "                lambda_ARMA[i, j] = np.exp(0.5 * (var_u) * (1 - np.exp(-Rho[i]) ) * Soma) - 1\n",
        "                 \n",
        "                \n",
        "            else:\n",
        "                    \n",
        "                Soma = np.exp(0.5 * (var_u) * Gamma[j] * (Gamma[j]-1) * Acumulado)\n",
        "                parte = 1 + np.dot(Exp, Soma)\n",
        "                lambda_ARMA[i, j] = np.exp( (np.log( (1-np.exp(-Rho[i])) * parte) ) / ( Gamma[j]-1 ) )  - 1\n",
        "                                               \n",
        "\n",
        "    return lambda_ARMA\n"
      ],
      "execution_count": 8,
      "outputs": []
    },
    {
      "cell_type": "markdown",
      "metadata": {
        "id": "s-irN4NV-JBz"
      },
      "source": [
        "Na última função, em particular, calculamos a seguinte somatória:\n",
        "\n",
        "\n",
        "\\begin{align*}\n",
        "    \\ln(1+\\lambda) = \n",
        "        \\begin{cases}\n",
        "           \\frac{1}{2} \\sigma^2_u (1-e^\\rho ) \\Big(\\sum^{\\infty}_{t=1} e^{\\rho t} \\sum_{t-1}^{j=0} \\alpha_i^2 \\Big), \\quad se \\quad \\gamma = 1 \\\\\n",
        "           (\\gamma - 1)^{-1} \\ln \\Big [ (1- e^{\\rho}) (1+ \\sum_{\\infty}^{t=1} e^{\\rho t} e^{0,5 \\sigma^2_u \\gamma (\\gamma-1) \\sum^{t-1}_{j=0} \\sum^{j}_{i=0} \\alpha_i^2}) \\Big], \\quad se \\quad \\gamma \\neq 1\n",
        "        \\end{cases}\n",
        "\\end{align*}"
      ]
    },
    {
      "cell_type": "markdown",
      "metadata": {
        "id": "jeYLUTxo-IZn"
      },
      "source": [
        "# 3) Importando Dados\n",
        "\n",
        "Nesta seção utilizo dados da PWT 10.0"
      ]
    },
    {
      "cell_type": "code",
      "metadata": {
        "id": "IoyIWSFr-DZP"
      },
      "source": [
        "###################################################################\n",
        "############## --- Abrindo Bases e Transformando --- ##############\n",
        "###################################################################\n",
        "\n",
        "# Abrindo a base\n",
        "url = 'https://www.rug.nl/ggdc/docs/pwt100.xlsx'\n",
        "pwt = pd.read_excel(url,\n",
        "                    sheet_name = 'Data'\n",
        "                    )\n",
        "\n",
        "\n",
        "#Selecionando apenas as variaveis que vou utilizar\n",
        "pwt = pwt[['country', 'countrycode', 'year', 'cgdpo','csh_c', 'pop']]\n",
        "\n",
        "# Filtro os anos\n",
        "pwt = pwt[pwt['year'] <= 2011]\n",
        "pwt = pwt[pwt['year'] >= 1951]\n",
        "\n",
        "# Crio variavel log do cons. percapita\n",
        "pwt['cons_pcapta'] = np.log(pwt['cgdpo']*pwt['csh_c']/pwt['pop'])\n",
        "\n",
        "countries = pwt['country'].unique()\n",
        "country_codes = pwt['countrycode'].unique()"
      ],
      "execution_count": 9,
      "outputs": []
    },
    {
      "cell_type": "markdown",
      "metadata": {
        "id": "kmN3O4xcCdD2"
      },
      "source": [
        "# 4) Calculando o custo"
      ]
    },
    {
      "cell_type": "code",
      "metadata": {
        "id": "h-1CjczyCqgU"
      },
      "source": [
        "# Criando listas que armazenarão o output do modelo\n",
        "models      = [None] * len(countries)\n",
        "best_ARMA   = [None] * len(countries) \n",
        "results     = [None] * len(countries)\n",
        "lambda_ARMA = [None] * len(countries)"
      ],
      "execution_count": 10,
      "outputs": []
    },
    {
      "cell_type": "code",
      "metadata": {
        "id": "SI9iJQyHC0nB",
        "colab": {
          "base_uri": "https://localhost:8080/"
        },
        "outputId": "af67e362-52b2-4519-d62e-59095b333b3c"
      },
      "source": [
        "for idx, country in enumerate(countries):\n",
        "        \n",
        "    try:\n",
        "        #Eliminando NA e diferenciando\n",
        "        newdf = pwt[(pwt['country'] == country) ].dropna()\n",
        "        newdf = newdf['cons_pcapta'].diff().dropna()\n",
        "    \n",
        "        data_frame = newdf\n",
        "    \n",
        "        # Calculando o melhor ARMA\n",
        "        models[idx], best_ARMA[idx], MA_coef, AR_coef, variance = calculate_best_arima(newdf)\n",
        "    \n",
        "    \n",
        "        #Transformando MA(inf)\n",
        "        Pol = ma_infinite_representation2(AR = AR_coef, \n",
        "                                          MA = MA_coef)\n",
        "    \n",
        "    \n",
        "        #Calculando custo do ciclo\n",
        "        lambda_ARMA[idx] = matriz_custo(MA_inf = Pol, \n",
        "                                        var_u = variance,\n",
        "                                        # Rho = np.array([0.001]),\n",
        "                                        # Gamma = np.array([3])\n",
        "                                        Rho = np.arange(0.03, 0.001, -0.01),\n",
        "                                        Gamma = np.arange(1, 6, 2)\n",
        "                                        )\n",
        "        print(f'[Num, País] = {idx:3} | {country:20} | best_ARMA')\n",
        "        \n",
        "    except:\n",
        "        print(f'[Num, País] = {idx:3} | {country:20} | País Não Inversível')"
      ],
      "execution_count": 12,
      "outputs": [
        {
          "output_type": "stream",
          "text": [
            "[Num, País] =   0 | Aruba                | best_ARMA\n",
            "[Num, País] =   1 | Angola               | best_ARMA\n",
            "[Num, País] =   2 | Anguilla             | best_ARMA\n",
            "[Num, País] =   3 | Albania              | best_ARMA\n",
            "[Num, País] =   4 | United Arab Emirates | best_ARMA\n",
            "[Num, País] =   5 | Argentina            | best_ARMA\n",
            "[Num, País] =   6 | Armenia              | best_ARMA\n",
            "[Num, País] =   7 | Antigua and Barbuda  | best_ARMA\n",
            "[Num, País] =   8 | Australia            | best_ARMA\n",
            "[Num, País] =   9 | Austria              | best_ARMA\n",
            "[Num, País] =  10 | Azerbaijan           | best_ARMA\n",
            "[Num, País] =  11 | Burundi              | best_ARMA\n",
            "[Num, País] =  12 | Belgium              | best_ARMA\n",
            "[Num, País] =  13 | Benin                | best_ARMA\n",
            "[Num, País] =  14 | Burkina Faso         | best_ARMA\n",
            "[Num, País] =  15 | Bangladesh           | best_ARMA\n",
            "[Num, País] =  16 | Bulgaria             | best_ARMA\n",
            "[Num, País] =  17 | Bahrain              | best_ARMA\n",
            "[Num, País] =  18 | Bahamas              | best_ARMA\n",
            "[Num, País] =  19 | Bosnia and Herzegovina | best_ARMA\n",
            "[Num, País] =  20 | Belarus              | best_ARMA\n",
            "[Num, País] =  21 | Belize               | best_ARMA\n",
            "[Num, País] =  22 | Bermuda              | best_ARMA\n",
            "[Num, País] =  23 | Bolivia (Plurinational State of) | best_ARMA\n",
            "[Num, País] =  24 | Brazil               | best_ARMA\n",
            "[Num, País] =  25 | Barbados             | best_ARMA\n",
            "[Num, País] =  26 | Brunei Darussalam    | best_ARMA\n",
            "[Num, País] =  27 | Bhutan               | best_ARMA\n",
            "[Num, País] =  28 | Botswana             | best_ARMA\n",
            "[Num, País] =  29 | Central African Republic | best_ARMA\n",
            "[Num, País] =  30 | Canada               | best_ARMA\n",
            "[Num, País] =  31 | Switzerland          | best_ARMA\n",
            "[Num, País] =  32 | Chile                | best_ARMA\n",
            "[Num, País] =  33 | China                | best_ARMA\n",
            "[Num, País] =  34 | Côte d'Ivoire        | best_ARMA\n",
            "[Num, País] =  35 | Cameroon             | best_ARMA\n",
            "[Num, País] =  36 | D.R. of the Congo    | best_ARMA\n",
            "[Num, País] =  37 | Congo                | best_ARMA\n",
            "[Num, País] =  38 | Colombia             | best_ARMA\n",
            "[Num, País] =  39 | Comoros              | best_ARMA\n",
            "[Num, País] =  40 | Cabo Verde           | best_ARMA\n",
            "[Num, País] =  41 | Costa Rica           | best_ARMA\n",
            "[Num, País] =  42 | Curaçao              | best_ARMA\n",
            "[Num, País] =  43 | Cayman Islands       | best_ARMA\n",
            "[Num, País] =  44 | Cyprus               | best_ARMA\n",
            "[Num, País] =  45 | Czech Republic       | best_ARMA\n",
            "[Num, País] =  46 | Germany              | best_ARMA\n",
            "[Num, País] =  47 | Djibouti             | best_ARMA\n",
            "[Num, País] =  48 | Dominica             | best_ARMA\n",
            "[Num, País] =  49 | Denmark              | best_ARMA\n",
            "[Num, País] =  50 | Dominican Republic   | best_ARMA\n",
            "[Num, País] =  51 | Algeria              | best_ARMA\n",
            "[Num, País] =  52 | Ecuador              | best_ARMA\n",
            "[Num, País] =  53 | Egypt                | best_ARMA\n",
            "[Num, País] =  54 | Spain                | best_ARMA\n",
            "[Num, País] =  55 | Estonia              | best_ARMA\n",
            "[Num, País] =  56 | Ethiopia             | best_ARMA\n",
            "[Num, País] =  57 | Finland              | best_ARMA\n",
            "[Num, País] =  58 | Fiji                 | best_ARMA\n",
            "[Num, País] =  59 | France               | best_ARMA\n",
            "[Num, País] =  60 | Gabon                | best_ARMA\n",
            "[Num, País] =  61 | United Kingdom       | best_ARMA\n",
            "[Num, País] =  62 | Georgia              | best_ARMA\n",
            "[Num, País] =  63 | Ghana                | best_ARMA\n",
            "[Num, País] =  64 | Guinea               | best_ARMA\n",
            "[Num, País] =  65 | Gambia               | best_ARMA\n",
            "[Num, País] =  66 | Guinea-Bissau        | best_ARMA\n",
            "[Num, País] =  67 | Equatorial Guinea    | best_ARMA\n",
            "[Num, País] =  68 | Greece               | best_ARMA\n",
            "[Num, País] =  69 | Grenada              | best_ARMA\n",
            "[Num, País] =  70 | Guatemala            | best_ARMA\n",
            "[Num, País] =  71 | Guyana               | best_ARMA\n",
            "[Num, País] =  72 | China, Hong Kong SAR | best_ARMA\n",
            "[Num, País] =  73 | Honduras             | best_ARMA\n",
            "[Num, País] =  74 | Croatia              | best_ARMA\n",
            "[Num, País] =  75 | Haiti                | best_ARMA\n",
            "[Num, País] =  76 | Hungary              | best_ARMA\n",
            "[Num, País] =  77 | Indonesia            | best_ARMA\n",
            "[Num, País] =  78 | India                | País Não Inversível\n",
            "[Num, País] =  79 | Ireland              | best_ARMA\n",
            "[Num, País] =  80 | Iran (Islamic Republic of) | best_ARMA\n",
            "[Num, País] =  81 | Iraq                 | best_ARMA\n",
            "[Num, País] =  82 | Iceland              | best_ARMA\n",
            "[Num, País] =  83 | Israel               | best_ARMA\n",
            "[Num, País] =  84 | Italy                | best_ARMA\n",
            "[Num, País] =  85 | Jamaica              | best_ARMA\n",
            "[Num, País] =  86 | Jordan               | best_ARMA\n",
            "[Num, País] =  87 | Japan                | best_ARMA\n",
            "[Num, País] =  88 | Kazakhstan           | best_ARMA\n",
            "[Num, País] =  89 | Kenya                | best_ARMA\n",
            "[Num, País] =  90 | Kyrgyzstan           | best_ARMA\n",
            "[Num, País] =  91 | Cambodia             | best_ARMA\n",
            "[Num, País] =  92 | Saint Kitts and Nevis | best_ARMA\n",
            "[Num, País] =  93 | Republic of Korea    | best_ARMA\n",
            "[Num, País] =  94 | Kuwait               | best_ARMA\n",
            "[Num, País] =  95 | Lao People's DR      | best_ARMA\n",
            "[Num, País] =  96 | Lebanon              | best_ARMA\n",
            "[Num, País] =  97 | Liberia              | best_ARMA\n",
            "[Num, País] =  98 | Saint Lucia          | best_ARMA\n",
            "[Num, País] =  99 | Sri Lanka            | best_ARMA\n",
            "[Num, País] = 100 | Lesotho              | best_ARMA\n",
            "[Num, País] = 101 | Lithuania            | best_ARMA\n",
            "[Num, País] = 102 | Luxembourg           | best_ARMA\n",
            "[Num, País] = 103 | Latvia               | best_ARMA\n",
            "[Num, País] = 104 | China, Macao SAR     | best_ARMA\n",
            "[Num, País] = 105 | Morocco              | best_ARMA\n",
            "[Num, País] = 106 | Republic of Moldova  | best_ARMA\n",
            "[Num, País] = 107 | Madagascar           | best_ARMA\n",
            "[Num, País] = 108 | Maldives             | best_ARMA\n",
            "[Num, País] = 109 | Mexico               | best_ARMA\n",
            "[Num, País] = 110 | North Macedonia      | best_ARMA\n",
            "[Num, País] = 111 | Mali                 | best_ARMA\n",
            "[Num, País] = 112 | Malta                | best_ARMA\n",
            "[Num, País] = 113 | Myanmar              | best_ARMA\n",
            "[Num, País] = 114 | Montenegro           | País Não Inversível\n",
            "[Num, País] = 115 | Mongolia             | best_ARMA\n",
            "[Num, País] = 116 | Mozambique           | best_ARMA\n",
            "[Num, País] = 117 | Mauritania           | best_ARMA\n",
            "[Num, País] = 118 | Montserrat           | best_ARMA\n",
            "[Num, País] = 119 | Mauritius            | best_ARMA\n",
            "[Num, País] = 120 | Malawi               | best_ARMA\n",
            "[Num, País] = 121 | Malaysia             | best_ARMA\n",
            "[Num, País] = 122 | Namibia              | best_ARMA\n",
            "[Num, País] = 123 | Niger                | best_ARMA\n",
            "[Num, País] = 124 | Nigeria              | best_ARMA\n",
            "[Num, País] = 125 | Nicaragua            | best_ARMA\n",
            "[Num, País] = 126 | Netherlands          | best_ARMA\n",
            "[Num, País] = 127 | Norway               | best_ARMA\n",
            "[Num, País] = 128 | Nepal                | best_ARMA\n",
            "[Num, País] = 129 | New Zealand          | best_ARMA\n",
            "[Num, País] = 130 | Oman                 | best_ARMA\n",
            "[Num, País] = 131 | Pakistan             | best_ARMA\n",
            "[Num, País] = 132 | Panama               | best_ARMA\n",
            "[Num, País] = 133 | Peru                 | best_ARMA\n",
            "[Num, País] = 134 | Philippines          | best_ARMA\n",
            "[Num, País] = 135 | Poland               | best_ARMA\n",
            "[Num, País] = 136 | Portugal             | best_ARMA\n",
            "[Num, País] = 137 | Paraguay             | best_ARMA\n",
            "[Num, País] = 138 | State of Palestine   | best_ARMA\n",
            "[Num, País] = 139 | Qatar                | best_ARMA\n",
            "[Num, País] = 140 | Romania              | best_ARMA\n",
            "[Num, País] = 141 | Russian Federation   | best_ARMA\n",
            "[Num, País] = 142 | Rwanda               | best_ARMA\n",
            "[Num, País] = 143 | Saudi Arabia         | best_ARMA\n",
            "[Num, País] = 144 | Sudan                | best_ARMA\n",
            "[Num, País] = 145 | Senegal              | best_ARMA\n",
            "[Num, País] = 146 | Singapore            | best_ARMA\n",
            "[Num, País] = 147 | Sierra Leone         | best_ARMA\n",
            "[Num, País] = 148 | El Salvador          | best_ARMA\n",
            "[Num, País] = 149 | Serbia               | best_ARMA\n",
            "[Num, País] = 150 | Sao Tome and Principe | best_ARMA\n",
            "[Num, País] = 151 | Suriname             | best_ARMA\n",
            "[Num, País] = 152 | Slovakia             | best_ARMA\n",
            "[Num, País] = 153 | Slovenia             | best_ARMA\n",
            "[Num, País] = 154 | Sweden               | best_ARMA\n",
            "[Num, País] = 155 | Eswatini             | best_ARMA\n",
            "[Num, País] = 156 | Sint Maarten (Dutch part) | País Não Inversível\n",
            "[Num, País] = 157 | Seychelles           | best_ARMA\n",
            "[Num, País] = 158 | Syrian Arab Republic | best_ARMA\n",
            "[Num, País] = 159 | Turks and Caicos Islands | best_ARMA\n",
            "[Num, País] = 160 | Chad                 | best_ARMA\n",
            "[Num, País] = 161 | Togo                 | best_ARMA\n",
            "[Num, País] = 162 | Thailand             | best_ARMA\n",
            "[Num, País] = 163 | Tajikistan           | best_ARMA\n",
            "[Num, País] = 164 | Turkmenistan         | best_ARMA\n",
            "[Num, País] = 165 | Trinidad and Tobago  | best_ARMA\n",
            "[Num, País] = 166 | Tunisia              | best_ARMA\n",
            "[Num, País] = 167 | Turkey               | best_ARMA\n",
            "[Num, País] = 168 | Taiwan               | best_ARMA\n",
            "[Num, País] = 169 | U.R. of Tanzania: Mainland | best_ARMA\n",
            "[Num, País] = 170 | Uganda               | best_ARMA\n",
            "[Num, País] = 171 | Ukraine              | best_ARMA\n",
            "[Num, País] = 172 | Uruguay              | best_ARMA\n",
            "[Num, País] = 173 | United States        | best_ARMA\n",
            "[Num, País] = 174 | Uzbekistan           | best_ARMA\n",
            "[Num, País] = 175 | St. Vincent and the Grenadines | best_ARMA\n",
            "[Num, País] = 176 | Venezuela (Bolivarian Republic of) | best_ARMA\n",
            "[Num, País] = 177 | British Virgin Islands | best_ARMA\n",
            "[Num, País] = 178 | Viet Nam             | best_ARMA\n",
            "[Num, País] = 179 | Yemen                | best_ARMA\n",
            "[Num, País] = 180 | South Africa         | best_ARMA\n",
            "[Num, País] = 181 | Zambia               | best_ARMA\n",
            "[Num, País] = 182 | Zimbabwe             | best_ARMA\n"
          ],
          "name": "stdout"
        }
      ]
    },
    {
      "cell_type": "code",
      "metadata": {
        "id": "PQ_NctwoJsex"
      },
      "source": [
        "del idx, country, MA_coef, AR_coef, variance, Pol"
      ],
      "execution_count": 14,
      "outputs": []
    },
    {
      "cell_type": "markdown",
      "metadata": {
        "id": "jIVvMEX2A_vx"
      },
      "source": [
        "# 5) Exportando os dados"
      ]
    },
    {
      "cell_type": "code",
      "metadata": {
        "id": "g-upHuB4A9M3"
      },
      "source": [
        "custo = [None] * len(countries)\r\n",
        "\r\n",
        "for idx in range(0, len(countries)):\r\n",
        "    \r\n",
        "    try:\r\n",
        "        custo[idx] = lambda_ARMA[idx][0,0]*100\r\n",
        "        \r\n",
        "    except:\r\n",
        "        custo[idx] = None\r\n",
        "\r\n",
        "\r\n",
        "custo = {'custo' : custo, 'countrycode' : country_codes}\r\n",
        "custo = pd.DataFrame(custo, columns=['custo', 'countrycode'])"
      ],
      "execution_count": 43,
      "outputs": []
    },
    {
      "cell_type": "code",
      "metadata": {
        "colab": {
          "base_uri": "https://localhost:8080/",
          "height": 17
        },
        "id": "VHRvN5fkKuYX",
        "outputId": "8192e0eb-4596-436a-c7cf-0dc0c5b425fc"
      },
      "source": [
        "# Exportanto dados\r\n",
        "\r\n",
        "custo.to_csv('custos_data.csv')\r\n",
        "files.download('custos_data.csv')"
      ],
      "execution_count": 56,
      "outputs": [
        {
          "output_type": "display_data",
          "data": {
            "application/javascript": [
              "\n",
              "    async function download(id, filename, size) {\n",
              "      if (!google.colab.kernel.accessAllowed) {\n",
              "        return;\n",
              "      }\n",
              "      const div = document.createElement('div');\n",
              "      const label = document.createElement('label');\n",
              "      label.textContent = `Downloading \"${filename}\": `;\n",
              "      div.appendChild(label);\n",
              "      const progress = document.createElement('progress');\n",
              "      progress.max = size;\n",
              "      div.appendChild(progress);\n",
              "      document.body.appendChild(div);\n",
              "\n",
              "      const buffers = [];\n",
              "      let downloaded = 0;\n",
              "\n",
              "      const channel = await google.colab.kernel.comms.open(id);\n",
              "      // Send a message to notify the kernel that we're ready.\n",
              "      channel.send({})\n",
              "\n",
              "      for await (const message of channel.messages) {\n",
              "        // Send a message to notify the kernel that we're ready.\n",
              "        channel.send({})\n",
              "        if (message.buffers) {\n",
              "          for (const buffer of message.buffers) {\n",
              "            buffers.push(buffer);\n",
              "            downloaded += buffer.byteLength;\n",
              "            progress.value = downloaded;\n",
              "          }\n",
              "        }\n",
              "      }\n",
              "      const blob = new Blob(buffers, {type: 'application/binary'});\n",
              "      const a = document.createElement('a');\n",
              "      a.href = window.URL.createObjectURL(blob);\n",
              "      a.download = filename;\n",
              "      div.appendChild(a);\n",
              "      a.click();\n",
              "      div.remove();\n",
              "    }\n",
              "  "
            ],
            "text/plain": [
              "<IPython.core.display.Javascript object>"
            ]
          },
          "metadata": {
            "tags": []
          }
        },
        {
          "output_type": "display_data",
          "data": {
            "application/javascript": [
              "download(\"download_ff575003-33ec-4621-9996-f5a1656b091b\", \"custos_data.csv\", 4529)"
            ],
            "text/plain": [
              "<IPython.core.display.Javascript object>"
            ]
          },
          "metadata": {
            "tags": []
          }
        }
      ]
    },
    {
      "cell_type": "markdown",
      "metadata": {
        "id": "SSQlnjY6GF4E"
      },
      "source": [
        "# 6) Graficos\n",
        "\n"
      ]
    },
    {
      "cell_type": "markdown",
      "metadata": {
        "id": "5Cc6l3Ax7TNv"
      },
      "source": [
        "### 6.1) Verificando sensibilidade do custo em $\\gamma$ e $\\rho$\r\n"
      ]
    },
    {
      "cell_type": "code",
      "metadata": {
        "id": "aRwuPRGtC3rc"
      },
      "source": [
        "np.set_printoptions(suppress=True)\n",
        "\n",
        "country = 'Brazil'\n",
        "\n",
        "#Eliminando NA e diferenciando\n",
        "newdf = pwt[(pwt['country'] == country) ].dropna()\n",
        "newdf = newdf['cons_pcapta'].diff().dropna()\n",
        "\n",
        "# Calculando o melhor ARMA\n",
        "models2, best_ARMA2, MA_coef, AR_coef, variance = calculate_best_arima(newdf)\n",
        "\n",
        "#Transformando MA(inf)\n",
        "Pol = ma_infinite_representation2(AR = AR_coef, \n",
        "                                  MA = MA_coef)\n",
        "\n",
        "lambda_ARMA2 = matriz_custo(MA_inf = Pol, \n",
        "                            var_u = variance,\n",
        "                            Rho = np.arange(0.03, 0.01, -0.001),\n",
        "                            Gamma = np.arange(0, 4, 0.2)\n",
        "                            )\n"
      ],
      "execution_count": 15,
      "outputs": []
    },
    {
      "cell_type": "markdown",
      "metadata": {
        "id": "FhOfOfNyGzWc"
      },
      "source": [
        "Note que o custo cresce exponencialmente em $\\gamma$ e decresce em $\\rho$"
      ]
    },
    {
      "cell_type": "code",
      "metadata": {
        "colab": {
          "base_uri": "https://localhost:8080/",
          "height": 265
        },
        "id": "l-8wMgg1GyRR",
        "outputId": "99e6789c-647a-41fb-cc95-6411246fe59c"
      },
      "source": [
        "\n",
        "for i in range(0, lambda_ARMA2.shape[0] ) :\n",
        "    plt.plot(np.arange(0, 4, 0.2)[:-2], lambda_ARMA2[:-2,:])\n",
        "     \n",
        "plt.show()\n"
      ],
      "execution_count": 16,
      "outputs": [
        {
          "output_type": "display_data",
          "data": {
            "image/png": "[encoded data removed]",
            "text/plain": [
              "<Figure size 432x288 with 1 Axes>"
            ]
          },
          "metadata": {
            "tags": [],
            "needs_background": "light"
          }
        }
      ]
    },
    {
      "cell_type": "code",
      "metadata": {
        "colab": {
          "base_uri": "https://localhost:8080/",
          "height": 265
        },
        "id": "ZQ2CiBNSKbxy",
        "outputId": "711abb83-531a-4c6b-be39-a1cc908c46aa"
      },
      "source": [
        "for i in range(0, lambda_ARMA2.shape[1] ) :\n",
        "    plt.plot(np.arange(0.03, 0.01, -0.001)[:-2], lambda_ARMA2[:-2,i])\n",
        "    \n",
        "plt.show()"
      ],
      "execution_count": 17,
      "outputs": [
        {
          "output_type": "display_data",
          "data": {
            "image/png": "[encoded data removed]",
            "text/plain": [
              "<Figure size 432x288 with 1 Axes>"
            ]
          },
          "metadata": {
            "tags": [],
            "needs_background": "light"
          }
        }
      ]
    },
    {
      "cell_type": "markdown",
      "metadata": {
        "id": "zULl96GH7hm2"
      },
      "source": [
        "### 6.2) Plotando os melhores ARMAS"
      ]
    },
    {
      "cell_type": "code",
      "metadata": {
        "colab": {
          "base_uri": "https://localhost:8080/",
          "height": 279
        },
        "id": "5K-W-RlA7fWn",
        "outputId": "31324d4a-f3d0-4117-ca8e-49dfb5fbac0c"
      },
      "source": [
        "# Selecionando os melhores ARMA mas excluindo os paises que nao sao inversiveis\r\n",
        "best_ARMA2 = [x for x in best_ARMA if x is not None]\r\n",
        "\r\n",
        "# Total de modelos na respectiva especificação\r\n",
        "Vetor = pd.DataFrame({'a':best_ARMA2})\r\n",
        "Vetor = pd.DataFrame(Vetor['a'].value_counts())\r\n",
        "\r\n",
        "# Transformando o DF para obter uma coluna da ordem do MA e outra do AR\r\n",
        "Vetor['AR'] = pd.DataFrame([AR[0] for AR in Vetor.index], index = Vetor.index)\r\n",
        "Vetor['MA'] = pd.DataFrame([MA[1] for MA in Vetor.index], index = Vetor.index)\r\n",
        "\r\n",
        "\r\n",
        "# Plotando o grafico\r\n",
        "fig, ax = plt.subplots(figsize=(6,4))\r\n",
        "ax.scatter(x = Vetor['AR'], y = Vetor['MA'], s = Vetor['a'], alpha=0.8)\r\n",
        "ax.set(\r\n",
        "    xlabel='AR',\r\n",
        "    ylabel='MA'\r\n",
        ")\r\n",
        "plt.xticks([0, 1, 2, 3])\r\n",
        "plt.yticks([0, 1, 2, 3, 4])\r\n",
        "\r\n",
        "\r\n",
        "del fig, ax"
      ],
      "execution_count": 18,
      "outputs": [
        {
          "output_type": "display_data",
          "data": {
            "image/png": "[encoded data removed]",
            "text/plain": [
              "<Figure size 432x288 with 1 Axes>"
            ]
          },
          "metadata": {
            "tags": [],
            "needs_background": "light"
          }
        }
      ]
    },
    {
      "cell_type": "markdown",
      "metadata": {
        "id": "7_NGJDBU7qYV"
      },
      "source": [
        "### 6.3) Plotando o histograma dos custos"
      ]
    },
    {
      "cell_type": "code",
      "metadata": {
        "colab": {
          "base_uri": "https://localhost:8080/",
          "height": 1000
        },
        "id": "6m0QRIql7o-0",
        "outputId": "524f84b4-3a9c-459a-a361-82b4c389d7fa"
      },
      "source": [
        "Rho = np.arange(0.03, 0.001, -0.01)\r\n",
        "Gamma = np.arange(1, 6, 2)\r\n",
        "\r\n",
        "\r\n",
        "custo = [None] * len(countries)\r\n",
        "    \r\n",
        "for j, rhho in enumerate(Rho):\r\n",
        "    for i, gama in enumerate(Gamma):\r\n",
        "        \r\n",
        "        custo = [None] * len(countries)\r\n",
        "        \r\n",
        "        for idx in range(0, len(countries)):\r\n",
        "            \r\n",
        "            try:\r\n",
        "                custo[idx] = lambda_ARMA[idx][i,j]*100\r\n",
        "                \r\n",
        "            except:\r\n",
        "                custo[idx] = None\r\n",
        "        \r\n",
        "        custo = pd.DataFrame(custo)\r\n",
        "        \r\n",
        "        # Existem custos muito altos\r\n",
        "        custo.describe()\r\n",
        "        \r\n",
        "        #Removo os custos acima de 100%\r\n",
        "        custo = custo[custo < 100]  \r\n",
        "        \r\n",
        "        # Histograma \r\n",
        "        # plt.hist(custo, bins = 80)\r\n",
        "        # plt.show()\r\n",
        "        \r\n",
        "        # Densidade 1\r\n",
        "        # sns.displot(custo, kind=\"kde\", bw_adjust=.5, \r\n",
        "        #              cut=0)\r\n",
        "        # plt.show()\r\n",
        "    \r\n",
        "        # Densidade 2\r\n",
        "        sns.displot(custo, kde=True)\r\n",
        "        plt.show()\r\n",
        "        \r\n",
        "        print('Existem', custo[0].notnull().sum(), 'países com custo < 100%')\r\n",
        "        print('Parametros: Rho =', np.round(rhho, 3), '; e Gamma = ', np.round(gama, 3))\r\n",
        "        print()\r\n",
        "\r\n",
        "del j, i, idx"
      ],
      "execution_count": 29,
      "outputs": [
        {
          "output_type": "display_data",
          "data": {
            "image/png": "[encoded data removed]",
            "text/plain": [
              "<Figure size 402.25x360 with 1 Axes>"
            ]
          },
          "metadata": {
            "tags": [],
            "needs_background": "light"
          }
        },
        {
          "output_type": "stream",
          "text": [
            "Existem 156 países com custo < 100%\n",
            "Parametros: Rho = 0.03 ; e Gamma =  1\n",
            "\n"
          ],
          "name": "stdout"
        },
        {
          "output_type": "display_data",
          "data": {
            "image/png": "[encoded data removed]",
            "text/plain": [
              "<Figure size 402.25x360 with 1 Axes>"
            ]
          },
          "metadata": {
            "tags": [],
            "needs_background": "light"
          }
        },
        {
          "output_type": "stream",
          "text": [
            "Existem 145 países com custo < 100%\n",
            "Parametros: Rho = 0.03 ; e Gamma =  3\n",
            "\n"
          ],
          "name": "stdout"
        },
        {
          "output_type": "display_data",
          "data": {
            "image/png": "[encoded data removed]",
            "text/plain": [
              "<Figure size 402.25x360 with 1 Axes>"
            ]
          },
          "metadata": {
            "tags": [],
            "needs_background": "light"
          }
        },
        {
          "output_type": "stream",
          "text": [
            "Existem 121 países com custo < 100%\n",
            "Parametros: Rho = 0.03 ; e Gamma =  5\n",
            "\n"
          ],
          "name": "stdout"
        },
        {
          "output_type": "display_data",
          "data": {
            "image/png": "[encoded data removed]",
            "text/plain": [
              "<Figure size 402.25x360 with 1 Axes>"
            ]
          },
          "metadata": {
            "tags": [],
            "needs_background": "light"
          }
        },
        {
          "output_type": "stream",
          "text": [
            "Existem 95 países com custo < 100%\n",
            "Parametros: Rho = 0.02 ; e Gamma =  1\n",
            "\n"
          ],
          "name": "stdout"
        },
        {
          "output_type": "display_data",
          "data": {
            "image/png": "[encoded data removed]",
            "text/plain": [
              "<Figure size 402.25x360 with 1 Axes>"
            ]
          },
          "metadata": {
            "tags": [],
            "needs_background": "light"
          }
        },
        {
          "output_type": "stream",
          "text": [
            "Existem 71 países com custo < 100%\n",
            "Parametros: Rho = 0.02 ; e Gamma =  3\n",
            "\n"
          ],
          "name": "stdout"
        },
        {
          "output_type": "display_data",
          "data": {
            "image/png": "[encoded data removed]",
            "text/plain": [
              "<Figure size 402.25x360 with 1 Axes>"
            ]
          },
          "metadata": {
            "tags": [],
            "needs_background": "light"
          }
        },
        {
          "output_type": "stream",
          "text": [
            "Existem 40 países com custo < 100%\n",
            "Parametros: Rho = 0.02 ; e Gamma =  5\n",
            "\n"
          ],
          "name": "stdout"
        },
        {
          "output_type": "display_data",
          "data": {
            "image/png": "[encoded data removed]",
            "text/plain": [
              "<Figure size 402.25x360 with 1 Axes>"
            ]
          },
          "metadata": {
            "tags": [],
            "needs_background": "light"
          }
        },
        {
          "output_type": "stream",
          "text": [
            "Existem 44 países com custo < 100%\n",
            "Parametros: Rho = 0.01 ; e Gamma =  1\n",
            "\n"
          ],
          "name": "stdout"
        },
        {
          "output_type": "display_data",
          "data": {
            "image/png": "[encoded data removed]",
            "text/plain": [
              "<Figure size 402.25x360 with 1 Axes>"
            ]
          },
          "metadata": {
            "tags": [],
            "needs_background": "light"
          }
        },
        {
          "output_type": "stream",
          "text": [
            "Existem 29 países com custo < 100%\n",
            "Parametros: Rho = 0.01 ; e Gamma =  3\n",
            "\n"
          ],
          "name": "stdout"
        },
        {
          "output_type": "display_data",
          "data": {
            "image/png": "[encoded data removed]",
            "text/plain": [
              "<Figure size 402.25x360 with 1 Axes>"
            ]
          },
          "metadata": {
            "tags": [],
            "needs_background": "light"
          }
        },
        {
          "output_type": "stream",
          "text": [
            "Existem 17 países com custo < 100%\n",
            "Parametros: Rho = 0.01 ; e Gamma =  5\n",
            "\n"
          ],
          "name": "stdout"
        }
      ]
    }
  ]
}