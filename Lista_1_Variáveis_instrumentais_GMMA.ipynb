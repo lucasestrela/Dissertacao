{
  "nbformat": 4,
  "nbformat_minor": 0,
  "metadata": {
    "colab": {
      "name": "Lista 1 - Variáveis instrumentais_GMMA.ipynb",
      "provenance": [],
      "authorship_tag": "ABX9TyO+V0AnUBcW3mpWC4h37QDV",
      "include_colab_link": true
    },
    "kernelspec": {
      "name": "python3",
      "display_name": "Python 3"
    },
    "language_info": {
      "name": "python"
    }
  },
  "cells": [
    {
      "cell_type": "markdown",
      "metadata": {
        "id": "view-in-github",
        "colab_type": "text"
      },
      "source": [
        "<a href=\"https://colab.research.google.com/github/lucasestrela/Dissertacao/blob/main/Lista_1_Vari%C3%A1veis_instrumentais_GMMA.ipynb\" target=\"_parent\"><img src=\"https://colab.research.google.com/assets/colab-badge.svg\" alt=\"Open In Colab\"/></a>"
      ]
    },
    {
      "cell_type": "markdown",
      "metadata": {
        "id": "j0JcGjMbDxz-"
      },
      "source": [
        "# **Problema 1)** \n",
        "\n",
        "Considere o modelo:\n",
        "\n",
        "$$y_t = \\mu + \\phi_1 y_{t-1} + \\varepsilon_t$$\n",
        "\n",
        "em que $|\\phi_1| < 1$ e $\\varepsilon_t \\sim iidN(0, \\sigma^2_{\\varepsilon})$. Suponha que tenhamos uma amostra $y_t$, $t = 0, ..., T$, com $y_0 = 0$\n",
        "\n",
        "## Item a)\n",
        "Calcule $E[\\varepsilon_t]$, $E[\\varepsilon_t y_{t-1}]$, $E[\\varepsilon_t y_{t-2}]$ e $E[\\varepsilon_t^2]$\n",
        "\n"
      ]
    },
    {
      "cell_type": "markdown",
      "metadata": {
        "id": "KWL1CoDpLIsC"
      },
      "source": [
        "## Item b)\n",
        "\n",
        "Usando os resultados de (a) construa condições de momento para estimar $\\mu$, $\\sigma^2_\\varepsilon$ e $\\phi_1$\n",
        "\n"
      ]
    },
    {
      "cell_type": "markdown",
      "metadata": {
        "id": "yAdMFIGMVA56"
      },
      "source": [
        "## Item c)\n",
        "Explique como seria implementado o estimador GMM para as condições de momento definidas em (b)\n",
        "\n"
      ]
    },
    {
      "cell_type": "markdown",
      "metadata": {
        "id": "f26d3_yFVDQh"
      },
      "source": [
        "## Item d)  \n",
        "Seria possivel realizar o teste J de sobreidentificação? Por que?\n"
      ]
    },
    {
      "cell_type": "markdown",
      "metadata": {
        "id": "k7xz2lUmVC7J"
      },
      "source": [
        "## Item e)\n",
        "\n",
        "Simule um AR(1) com $\\mu = 2$, $\\phi_1 = 0.5$ e $\\varepsilon \\sim iidN(0, \\sigma^2_{\\varepsilon})$ sendo $\\varepsilon_t = 1$ e $t = 0, ..., T$. Assuma que $y_0 = 0$. Considere dois tamanhos de amostra, $T = 100$ e $T = 500$. Para cada tamanho de amostra:\n",
        "\n",
        "\n",
        "> 1. Use as condições de momento definidas em (b) para estimar o vetor de parâmetros $\\boldsymbol\\theta = [\\mu \\quad \\sigma^2_\\varepsilon  \\quad  \\phi_1]'$ e faça o teste J de sobreidentificação, usando o nível de significância de 5%.\n",
        "\n",
        "> 2. Repita este procedimento mil vezes, obtendo $\\hat\\mu^{(r)}, \\hat\\phi_1^{(r)}, {\\hat\\sigma^2_{\\varepsilon}}^{(r)}$ , $r = 1, ..., 1000$.\n",
        "\n",
        "> 3. Estude o comportamento dessas estimativas (média, desvio-padrão, máximo, mínimo, histograma) e calcule o tamanho\n",
        "do teste J de sobreidentificação.\n"
      ]
    },
    {
      "cell_type": "code",
      "metadata": {
        "id": "G1itvpXiVQFa"
      },
      "source": [
        ""
      ],
      "execution_count": null,
      "outputs": []
    },
    {
      "cell_type": "markdown",
      "metadata": {
        "id": "gS1Cn9AyVDlQ"
      },
      "source": [
        "## Item f)  \n",
        "\n",
        "Considere o modelo AR(2):\n",
        "\n",
        "$$yt = \\mu + \\phi_1 y_{t-1} + \\phi_2 y_{t-2} + \\varepsilon_t$$\n",
        "Simule este modelo com $\\mu = 2$, $\\phi_1 = 0.5$, $\\phi_2 = 0.3$ e $\\varepsilon_t \\sim iidN(0, \\sigma^2_\\varepsilon)$, sendo $\\sigma^2_\\varepsilon = 1$, e $t = 0, ..., T$. Assuma que $y_0 = y_1 = 0$.\n",
        "\n",
        "Considere dois tamanhos de amostra, T = 100 e T = 500. Para cada tamanho de amostra:\n",
        "\n",
        "\n",
        "> 1. Use as condições de momento definidas em (b) para estimar o vetor de parâmetros $\\boldsymbol\\theta = [\\mu \\quad \\sigma^2_\\varepsilon  \\quad  \\phi_1  \\quad  \\phi_2]'$ e faça o teste J de sobreidentificação, usando o nível de significância de 5%.\n",
        "\n",
        "> 2. Repita este procedimento mil vezes, obtendo $\\hat\\mu^{(r)}, \\hat\\phi_1^{(r)}, \\hat\\phi_2^{(r)}, {\\hat\\sigma^2_{\\varepsilon}}^{(r)}$ , $r = 1, ..., 1000$.\n",
        "\n",
        "> 3. Estude o comportamento dessas estimativas (média, desvio-padrão, máximo, mínimo, histograma) e calcule o tamanho\n",
        "do teste J de sobreidentificação.\n",
        "\n",
        "\n"
      ]
    },
    {
      "cell_type": "code",
      "metadata": {
        "id": "AzomnYWkDuVC"
      },
      "source": [
        ""
      ],
      "execution_count": null,
      "outputs": []
    }
  ]
}