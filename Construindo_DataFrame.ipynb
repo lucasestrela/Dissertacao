{
  "nbformat": 4,
  "nbformat_minor": 0,
  "metadata": {
    "colab": {
      "name": "Construindo_DataFrame",
      "provenance": [],
      "authorship_tag": "ABX9TyOTmGu7NxMQn0iBjRQxYLUW",
      "include_colab_link": true
    },
    "kernelspec": {
      "name": "python3",
      "display_name": "Python 3"
    }
  },
  "cells": [
    {
      "cell_type": "markdown",
      "metadata": {
        "id": "view-in-github",
        "colab_type": "text"
      },
      "source": [
        "<a href=\"https://colab.research.google.com/github/lucasestrela/Dissertacao/blob/main/Construindo_DataFrame.ipynb\" target=\"_parent\"><img src=\"https://colab.research.google.com/assets/colab-badge.svg\" alt=\"Open In Colab\"/></a>"
      ]
    },
    {
      "cell_type": "markdown",
      "metadata": {
        "id": "XNBSSk3_NvJ1"
      },
      "source": [
        "# 1) Importando pacotes"
      ]
    },
    {
      "cell_type": "code",
      "metadata": {
        "id": "mk4yLYNeJ310",
        "outputId": "88871efe-a5a4-4f9f-8171-3749ec912a72",
        "colab": {
          "base_uri": "https://localhost:8080/"
        }
      },
      "source": [
        "pip install wbgapi"
      ],
      "execution_count": 1,
      "outputs": [
        {
          "output_type": "stream",
          "text": [
            "Collecting wbgapi\n",
            "  Downloading https://files.pythonhosted.org/packages/9d/e8/e05cd0e284f8f60d65d8046356ec501a3a3c20f167466275180c97fde787/wbgapi-1.0.5-py3-none-any.whl\n",
            "Requirement already satisfied: PyYAML in /usr/local/lib/python3.7/dist-packages (from wbgapi) (3.13)\n",
            "Requirement already satisfied: requests in /usr/local/lib/python3.7/dist-packages (from wbgapi) (2.23.0)\n",
            "Requirement already satisfied: tabulate in /usr/local/lib/python3.7/dist-packages (from wbgapi) (0.8.9)\n",
            "Requirement already satisfied: chardet<4,>=3.0.2 in /usr/local/lib/python3.7/dist-packages (from requests->wbgapi) (3.0.4)\n",
            "Requirement already satisfied: urllib3!=1.25.0,!=1.25.1,<1.26,>=1.21.1 in /usr/local/lib/python3.7/dist-packages (from requests->wbgapi) (1.24.3)\n",
            "Requirement already satisfied: idna<3,>=2.5 in /usr/local/lib/python3.7/dist-packages (from requests->wbgapi) (2.10)\n",
            "Requirement already satisfied: certifi>=2017.4.17 in /usr/local/lib/python3.7/dist-packages (from requests->wbgapi) (2020.12.5)\n",
            "Installing collected packages: wbgapi\n",
            "Successfully installed wbgapi-1.0.5\n"
          ],
          "name": "stdout"
        }
      ]
    },
    {
      "cell_type": "code",
      "metadata": {
        "id": "AWAQwLPRNfWS"
      },
      "source": [
        "import numpy as np\n",
        "import pandas as pd\n",
        "import wbgapi as wb\n",
        "from google.colab import files"
      ],
      "execution_count": 2,
      "outputs": []
    },
    {
      "cell_type": "code",
      "metadata": {
        "id": "yQKWhFGZNheL"
      },
      "source": [
        "#############################################################################\n",
        "######################## --- Lendo Base de Dados --- ########################\n",
        "#############################################################################\n",
        "\n",
        "cbi = pd.read_excel('https://github.com/lucasestrela/Dissertacao/blob/main/Dados/CBI_data_2019.xlsx?raw=true',\n",
        "                    sheet_name = 'Sheet1'\n",
        "                    )\n",
        "\n",
        "\n",
        "\n",
        "fr = pd.read_stata('https://github.com/lucasestrela/Dissertacao/blob/main/Dados/fiscal_rule_database.dta?raw=true'\n",
        "                    )\n",
        "\n",
        "\n",
        "\n",
        "ipd = pd.read_excel('https://github.com/lucasestrela/Dissertacao/blob/main/Dados/IPD_2016.xlsx?raw=true',\n",
        "                    sheet_name = 'Variables',\n",
        "                    header = 0\n",
        "                    )\n",
        "\n",
        "\n",
        "pwt = pd.read_excel('https://github.com/lucasestrela/Dissertacao/blob/main/Dados/pwt100.xlsx?raw=true',\n",
        "                    sheet_name = 'Data'\n",
        "                    )"
      ],
      "execution_count": 3,
      "outputs": []
    },
    {
      "cell_type": "markdown",
      "metadata": {
        "id": "Oe0AmqI7526B"
      },
      "source": [
        "\n",
        "\n",
        "*   Unemployment, total (% of total labor force)  \n",
        "\n",
        "https://data.worldbank.org/indicator/SL.UEM.TOTL.ZS?view=chart\n",
        "\n",
        "*   Income share held by lowest 10%\n",
        "\n",
        "https://data.worldbank.org/indicator/SI.DST.FRST.10?view=chart\n",
        "\n",
        "*   Social contributions (% of revenue)\n",
        "\n",
        "https://data.worldbank.org/indicator/GC.REV.SOCL.ZS\n",
        "\n",
        "*   Poverty headcount ratio at $1.90 a day (2011 PPP) (% of population)\n",
        "\n",
        "https://data.worldbank.org/indicator/SI.POV.DDAY?view=chart\n",
        "\n",
        "*   Population ages 65 and above (% of total population)\n",
        "\n",
        "https://data.worldbank.org/indicator/SP.POP.65UP.TO.ZS?view=chart\n",
        "\n",
        "*   Population ages 0-14 (% of total population)\n",
        "\n",
        "https://data.worldbank.org/indicator/SP.POP.0014.TO.ZS?view=chart\n",
        "\n",
        "*   Age dependency ratio (% of working-age population)\n",
        "\n",
        "https://data.worldbank.org/indicator/SP.POP.DPND?view=chart\n",
        "\n",
        "*   Prevalence of undernourishment (% of population)\n",
        "\n",
        "https://data.worldbank.org/indicator/SN.ITK.DEFC.ZS\n",
        "\n",
        "*   Inflation, consumer prices (annual %)\n",
        "\n",
        "https://data.worldbank.org/indicator/FP.CPI.TOTL.ZG?view=chart\n",
        "\n",
        "*   Strength of legal rights index\n",
        "\n",
        "https://data.worldbank.org/indicator/IC.LGL.CRED.XQ?view=chart\n",
        "\n",
        "*   Government expenditure on education, total (% of GDP)\n",
        "\n",
        "https://data.worldbank.org/indicator/SE.XPD.TOTL.GD.ZS?view=chart\n",
        "\n",
        "\n",
        "*   Gross savings (% of GDP)\n",
        "\n",
        "https://data.worldbank.org/indicator/NY.GNS.ICTR.ZS?view=chart\n",
        "\n",
        "*   GDP growth (annual %)\n",
        "\n",
        "https://data.worldbank.org/indicator/NY.GDP.MKTP.KD.ZG?view=chart\n",
        "\n",
        "---\n",
        "\n",
        "https://data.worldbank.org/indicator?tab=featured\n",
        "\n"
      ]
    },
    {
      "cell_type": "code",
      "metadata": {
        "id": "TPQ2g5xQKTX5"
      },
      "source": [
        "wb_cod = ['NY.GDP.MKTP.KD.ZG',\n",
        "          'NY.GNS.ICTR.ZS',\n",
        "          'SE.XPD.TOTL.GD.ZS',\n",
        "          'IC.LGL.CRED.XQ',\n",
        "          'FP.CPI.TOTL.ZG',\n",
        "          'SN.ITK.DEFC.ZS',\n",
        "          'SP.POP.DPND',\n",
        "          'SP.POP.0014.TO.ZS',\n",
        "          'SP.POP.65UP.TO.ZS',\n",
        "          'SI.POV.DDAY',\n",
        "          'GC.REV.SOCL.ZS',\n",
        "          'SI.DST.FRST.10',\n",
        "          'SL.UEM.TOTL.ZS']\n",
        "\n",
        "wb_dic = ['gdp_grow',\n",
        "              'savings_gdp',\n",
        "              'educ_govexp_gdp',\n",
        "              'legal_rights',\n",
        "              'inflation',\n",
        "              'subnutri_pop',\n",
        "              'razao_dep',\n",
        "              'sub14_pop',\n",
        "              'idosos_pop',\n",
        "              'pobreza_pop',\n",
        "              'social_contrib',\n",
        "              'inc_10',\n",
        "              'unemployment']\n",
        "              \n",
        "\n",
        "# Dataframe que contem em uma coluna os codigos e outra os nomes\n",
        "codigo_nome = pd.DataFrame([wb_cod, wb_dic]).T\n",
        "codigo_nome.columns = ['wb_cod', 'wb_dic']\n",
        "\n",
        "\n",
        "# Download das series do WB\n",
        "pol_variables = wb.data.DataFrame(wb_cod)\n",
        "\n",
        "# Copiando a série\n",
        "pol_variables2 = pol_variables.copy()\n",
        "\n",
        "# Tirando a média das linhas\n",
        "pol_variables2['media'] = pol_variables2.mean(numeric_only=True, axis=1)\n",
        "pol_variables2 = pol_variables2['media']\n",
        "\n",
        "# Como tenho um multiindex, posso fazer o unstack e o indice de dentro vira as colunas\n",
        "pol_variables2 = pol_variables2.unstack() \n",
        "\n",
        "# Renomeando as colunas usando o dicionario\n",
        "d = codigo_nome.set_index('wb_cod').to_dict()\n",
        "pol_variables2.columns = pol_variables2.columns.to_series().map(d['wb_dic'])\n",
        "\n",
        "# Deletando ultima coluna\n",
        "pol_variables2 = pol_variables2.drop(pol_variables2.columns[len(pol_variables2.columns)-1], axis=1)\n",
        "# pol_variables2 = pol_variables2.drop(labels='wb_cod', axis=0)\n",
        "\n",
        "# Criando uma coluna com nomes de países\n",
        "pol_variables2['countrycode'] = pol_variables2.index"
      ],
      "execution_count": null,
      "outputs": []
    },
    {
      "cell_type": "code",
      "metadata": {
        "id": "GfMqMQntVqLK",
        "outputId": "72cf6767-9056-4381-afcf-decb614382d6",
        "colab": {
          "base_uri": "https://localhost:8080/",
          "height": 235
        }
      },
      "source": [
        "pol_variables2.tail()"
      ],
      "execution_count": 12,
      "outputs": [
        {
          "output_type": "execute_result",
          "data": {
            "text/html": [
              "<div>\n",
              "<style scoped>\n",
              "    .dataframe tbody tr th:only-of-type {\n",
              "        vertical-align: middle;\n",
              "    }\n",
              "\n",
              "    .dataframe tbody tr th {\n",
              "        vertical-align: top;\n",
              "    }\n",
              "\n",
              "    .dataframe thead th {\n",
              "        text-align: right;\n",
              "    }\n",
              "</style>\n",
              "<table border=\"1\" class=\"dataframe\">\n",
              "  <thead>\n",
              "    <tr style=\"text-align: right;\">\n",
              "      <th>series</th>\n",
              "      <th>inflation</th>\n",
              "      <th>social_contrib</th>\n",
              "      <th>legal_rights</th>\n",
              "      <th>gdp_grow</th>\n",
              "      <th>savings_gdp</th>\n",
              "      <th>educ_govexp_gdp</th>\n",
              "      <th>inc_10</th>\n",
              "      <th>pobreza_pop</th>\n",
              "      <th>unemployment</th>\n",
              "      <th>subnutri_pop</th>\n",
              "      <th>sub14_pop</th>\n",
              "      <th>idosos_pop</th>\n",
              "      <th>countrycode</th>\n",
              "    </tr>\n",
              "    <tr>\n",
              "      <th>economy</th>\n",
              "      <th></th>\n",
              "      <th></th>\n",
              "      <th></th>\n",
              "      <th></th>\n",
              "      <th></th>\n",
              "      <th></th>\n",
              "      <th></th>\n",
              "      <th></th>\n",
              "      <th></th>\n",
              "      <th></th>\n",
              "      <th></th>\n",
              "      <th></th>\n",
              "      <th></th>\n",
              "    </tr>\n",
              "  </thead>\n",
              "  <tbody>\n",
              "    <tr>\n",
              "      <th>XKX</th>\n",
              "      <td>1.695869</td>\n",
              "      <td>NaN</td>\n",
              "      <td>9.857143</td>\n",
              "      <td>5.164474</td>\n",
              "      <td>20.895186</td>\n",
              "      <td>NaN</td>\n",
              "      <td>3.641667</td>\n",
              "      <td>1.683333</td>\n",
              "      <td>NaN</td>\n",
              "      <td>NaN</td>\n",
              "      <td>NaN</td>\n",
              "      <td>NaN</td>\n",
              "      <td>XKX</td>\n",
              "    </tr>\n",
              "    <tr>\n",
              "      <th>YEM</th>\n",
              "      <td>17.495677</td>\n",
              "      <td>NaN</td>\n",
              "      <td>0.000000</td>\n",
              "      <td>1.869712</td>\n",
              "      <td>NaN</td>\n",
              "      <td>8.011537</td>\n",
              "      <td>3.066667</td>\n",
              "      <td>11.566667</td>\n",
              "      <td>11.655667</td>\n",
              "      <td>NaN</td>\n",
              "      <td>46.450087</td>\n",
              "      <td>2.999122</td>\n",
              "      <td>YEM</td>\n",
              "    </tr>\n",
              "    <tr>\n",
              "      <th>ZAF</th>\n",
              "      <td>7.903920</td>\n",
              "      <td>1.739414</td>\n",
              "      <td>5.000000</td>\n",
              "      <td>2.940889</td>\n",
              "      <td>20.973814</td>\n",
              "      <td>5.461569</td>\n",
              "      <td>1.057143</td>\n",
              "      <td>25.700000</td>\n",
              "      <td>27.999334</td>\n",
              "      <td>4.105556</td>\n",
              "      <td>36.994295</td>\n",
              "      <td>4.245798</td>\n",
              "      <td>ZAF</td>\n",
              "    </tr>\n",
              "    <tr>\n",
              "      <th>ZMB</th>\n",
              "      <td>38.223546</td>\n",
              "      <td>0.000377</td>\n",
              "      <td>8.714286</td>\n",
              "      <td>3.305475</td>\n",
              "      <td>34.478084</td>\n",
              "      <td>3.729464</td>\n",
              "      <td>1.344444</td>\n",
              "      <td>55.100000</td>\n",
              "      <td>13.080000</td>\n",
              "      <td>NaN</td>\n",
              "      <td>47.246728</td>\n",
              "      <td>2.413915</td>\n",
              "      <td>ZMB</td>\n",
              "    </tr>\n",
              "    <tr>\n",
              "      <th>ZWE</th>\n",
              "      <td>2.132165</td>\n",
              "      <td>1.301049</td>\n",
              "      <td>5.142857</td>\n",
              "      <td>2.910764</td>\n",
              "      <td>7.382431</td>\n",
              "      <td>9.576959</td>\n",
              "      <td>2.500000</td>\n",
              "      <td>31.600000</td>\n",
              "      <td>5.242000</td>\n",
              "      <td>NaN</td>\n",
              "      <td>45.453259</td>\n",
              "      <td>2.934481</td>\n",
              "      <td>ZWE</td>\n",
              "    </tr>\n",
              "  </tbody>\n",
              "</table>\n",
              "</div>"
            ],
            "text/plain": [
              "series   inflation  social_contrib  ...  idosos_pop  countrycode\n",
              "economy                             ...                         \n",
              "XKX       1.695869             NaN  ...         NaN          XKX\n",
              "YEM      17.495677             NaN  ...    2.999122          YEM\n",
              "ZAF       7.903920        1.739414  ...    4.245798          ZAF\n",
              "ZMB      38.223546        0.000377  ...    2.413915          ZMB\n",
              "ZWE       2.132165        1.301049  ...    2.934481          ZWE\n",
              "\n",
              "[5 rows x 13 columns]"
            ]
          },
          "metadata": {
            "tags": []
          },
          "execution_count": 12
        }
      ]
    },
    {
      "cell_type": "markdown",
      "metadata": {
        "id": "Vqr5aqKFNzey"
      },
      "source": [
        "# 2) Construindo um dicionário\n",
        "\n",
        "Nesta seção, irei construir um dicionário com **nomes dos países** (que por vezes estão escritos de diferentes maneiras) e **código dos países**. Assim, conseguirei manter um padrão (usando o código do país) entre as diferentes bases de dados"
      ]
    },
    {
      "cell_type": "code",
      "metadata": {
        "id": "1bFp22BhNV0W"
      },
      "source": [
        "####################################################################\n",
        "######################## --- Dicionário --- ########################\n",
        "####################################################################\n",
        "\n",
        "# Dicionario1: Extraindo os codigos dos países em PWT\n",
        "countries_code = pwt[['country', 'countrycode']].drop_duplicates('country', keep = 'first')\n",
        "\n",
        "\n",
        "# Consertando esse erro de label (muda nada na pratica, mas deixo padronizado ISO3)\n",
        "ipd.loc[ipd['Country'] == 'Comoros', 'Code'] = 'COM' \n",
        "ipd.loc[ipd['Country'] == 'Eritrea', 'Code'] = 'ERI'\n",
        "\n",
        "\n",
        "# Dicionario2: Extraindo os codigos dos países em IPD\n",
        "countries_code2 = ipd[['Country', 'Code']].drop_duplicates('Country', keep = 'first')\n",
        "countries_code2.columns = ['country', 'countrycode']\n",
        "\n",
        "\n",
        "# Empilhando ambos os dicionarios\n",
        "countries_code3 = pd.concat([countries_code, countries_code2], ignore_index=True).drop_duplicates('country', keep = 'first')"
      ],
      "execution_count": 7,
      "outputs": []
    },
    {
      "cell_type": "markdown",
      "metadata": {
        "id": "fGHyA_XroHRp"
      },
      "source": [
        "Empilhar o nome e os códigos dos países de dois dataframes (PWT e IPD) foi útil, já que podem existir grafias diferentes do país para um mesmo código. No entanto, isso não esgota os países, nem as grafias.\n",
        "\n",
        "Por exemplo, existem países que estão no dataframe CBI e PWT que não estão nesse dicionário criado. Para resolver isso, abaixo eu adiciono manualmente os países que estão faltando.\n",
        "\n",
        "\n",
        "Um potencial problema são países que foram fragmentados, por exemplo, Yuguslavia -> Serbia-Montenegro -> Serbia e Montenegro. Nesse caso especificamente eu optei por agregar YUG e Serbia-Montenegro durante o período que foi um único país, a partir da separação, separei em 2 codigos distindos. A grande questão é que a PWT (os dados de consumo) estão separados desde 1950 (não encontrei a metodologia para o split)."
      ]
    },
    {
      "cell_type": "code",
      "metadata": {
        "id": "Wm8su90WoHyv"
      },
      "source": [
        "####################################################################\n",
        "\n",
        "\n",
        "# Checando países em que o merge nao deu certo, isto é, existe o\n",
        "# país em cbi2 (onde tem mais países) e não existe código corres\n",
        "# pondente em fr2\n",
        "# paises_sem_codigo = cbi2[cbi2['countrycode'].isnull()]['country']\n",
        "\n",
        "\n",
        "paises_faltantes = np.array([\n",
        "                            ['Antigua & Barbuda', 'ATG'],\n",
        "                            ['Bosnia-Herzegovina', 'BIH'],\n",
        "                            ['Cape Verde', 'CPV'],\n",
        "                            ['Congo, Democratic Republic of / Za', 'COD'],\n",
        "                            ['Congo, Republic of', 'COG'],\n",
        "                            ['Ethiopia (incl. Eritrea)', 'ETH'],\n",
        "                            ['Guinea Bissau', 'GNB'],\n",
        "                            ['Hong Kong SAR', 'HKG'],\n",
        "                            ['Iran', 'IRN'],\n",
        "                            ['Ivory Coast', 'CIV'],\n",
        "                            ['Korea, Republic of', 'KOR'],\n",
        "                            ['Kosovo', 'XKX'], #Kosovo is not listed as an ISO standard country. The unofficial 2 and 3-digit codes are used by the European Commission and others until Kosovo is assigned an ISO code.\n",
        "                            ['Laos', 'LAO'],\n",
        "                            ['Myanmar (Burma)', 'MMR'],\n",
        "                            ['Papua New Guinea', 'PNG'],\n",
        "                            ['Russia', 'RUS'],\n",
        "                            ['Samoa', 'WSM'],\n",
        "                            ['San Marino', 'SMR'],\n",
        "                            ['Serbia and Montenegro','YUG'], #2003, 2004, 2005 (data from CBI)\n",
        "                            ['Solomon Islands', 'SLB'],\n",
        "                            ['St. Kitts and Nevis', 'KNA'],\n",
        "                            ['St. Lucia', 'LCA'],\n",
        "                            ['Swaziland', 'SWZ'], # Mudou de nome para Eswatini (from CBI)\n",
        "                            ['Syria', 'SYR'],\n",
        "                            ['Timor-Leste', 'TLS'],\n",
        "                            ['Tonga', 'TON'],\n",
        "                            ['United States of America', 'USA'],\n",
        "                            ['Vanuatu', 'VUT'],\n",
        "                            ['Venezuela', 'VEN'],\n",
        "                            ['Yemen, North', 'YEM'],\n",
        "                            ['Yemen, North/Yemen Arab Rep.', 'YEM'],\n",
        "                            ['Yugoslavia (Serbia-Montenegro)','YUG'], #92-2002 (serbia montenegro)\n",
        "                            ['Yugoslavia (Socialist Rep)', 'YUG'], # 70-91 (socialist republic)\n",
        "                            ['Zaire', 'COD'] # Rep. Demon. Congo entre 71-97\n",
        "                            ])\n",
        "\n",
        "\n",
        "# Transformando em dataframe do pandas\n",
        "paises_faltantes = pd.DataFrame(paises_faltantes, columns = ['country', 'countrycode'])\n",
        "\n",
        "\n",
        "# Empilhando ambos os dicionarios\n",
        "countries_code3 = pd.concat([paises_faltantes, countries_code3], ignore_index=True)"
      ],
      "execution_count": 13,
      "outputs": []
    },
    {
      "cell_type": "markdown",
      "metadata": {
        "id": "hom5pmPWOYEc"
      },
      "source": [
        "# 3) Manipulando os dados\n",
        "\n",
        "Nesta seção, para os dataframes que possuem séries temporais calculo a média total entre todos os anos, como uma forma de agregar as observações (*).\n",
        "\n",
        "Para cada dataframe incorporo o dicionário de códigos, padronizando o nome de cada país para o seu respectivo código (ISO Alpha 3 Code).\n",
        "\n",
        "Além disso, junto todos os dataframes.\n",
        "\n",
        "\n",
        "---\n",
        "(*)   Para agregar, posso testar usar a variância ou alguma outra métrica.\n",
        "\n"
      ]
    },
    {
      "cell_type": "code",
      "metadata": {
        "id": "kpgqeM9ANlw2",
        "colab": {
          "base_uri": "https://localhost:8080/"
        },
        "outputId": "f06f32f4-eb64-4347-ed3b-9cd20a72c77e"
      },
      "source": [
        "###########################################################################\n",
        "######################## --- Manipulando Dados --- ########################\n",
        "###########################################################################\n",
        "\n",
        "#######\n",
        "# CBI #\n",
        "#######\n",
        "\n",
        "# Renomeando coluna, preparando pro merge\n",
        "cbi.rename(columns={'cname':'country'}, inplace=True)\n",
        "\n",
        "# Calculando a média entre os anos, renomeando e acrescentando o código do país\n",
        "cbi2 = pd.merge(cbi, countries_code3, on='country', how='left')\n",
        "cbi2 = cbi2.groupby('countrycode').mean()\n",
        "cbi2 = cbi2.rename_axis('countrycode').reset_index()\n",
        "\n",
        "# Selecionando apenas as colunas que interessam\n",
        "cbi2 = cbi2[['countrycode', 'lvau_garriga', 'lvaw_garriga']]\n",
        "\n",
        "\n",
        "####################################################\n",
        "# Verificando consistencia nos dados após agregação\n",
        "####################################################\n",
        "\n",
        "# Apenas deixo nomes de países unicos\n",
        "teste = cbi.groupby('country').mean().rename_axis('country').reset_index()\n",
        "\n",
        "# Possuo 191 nomes de países\n",
        "print('Checando quantos nomes únicos de países tenho')\n",
        "print(len(teste))\n",
        "print()\n",
        "\n",
        "# Selecionando variáveis que serão mais faceis de visualizar\n",
        "teste = teste[['country', 'lvaw_garriga']]\n",
        "\n",
        "# Left-Join com o dicionário. Assim, consigo ver os nomes dos países e os códigos (duplicados)\n",
        "teste = pd.merge(teste, countries_code3, on='country', how='left')\n",
        "\n",
        "# Verificando quais são os países duplicados. Em geral, sao países que mudaram de nome\n",
        "dups = [x for x in teste['countrycode'].tolist() if teste['countrycode'].tolist().count(x) > 1]\n",
        "\n",
        "# Países excluídos pq estão duplicados: 8\n",
        "print('Checando quantos códigos de países tenho duplicados (país com mais de uma grafia)')\n",
        "print(len(dups) - len( list(set(dups) ) ))\n",
        "print()\n",
        "\n",
        "\n",
        "print('Checando se a diferença no tamanho dos datasets sao devido aos países duplicados')\n",
        "print(len(teste) - len(cbi2) == len(dups) - len( list(set(dups) ) ))\n",
        "\n",
        "# Passa a ter 182 países\n",
        "# Eu perco 8 por causa de mudança de nome: apenas deixo 1 de cada grupo abaixo\n",
        "\n",
        "\n",
        "# Bosnia and Herzegovina\n",
        "# Bosnia-Herzegovina\n",
        "\n",
        "\n",
        "# Congo, Republic of\n",
        "# Zaire\n",
        "\n",
        "\n",
        "# Ethiopia\n",
        "# Ethiopia (incl. Eritrea)\n",
        "\n",
        "\n",
        "# Myanmar\n",
        "# Myanmar (Burma)\n",
        "\n",
        "\n",
        "# Serbia and Montenegro\n",
        "# Yugoslavia (Serbia-Montenegro)\n",
        "# Yugoslavia (Socialist Rep)\n",
        "\n",
        "# Yemen\n",
        "# Yemen, North\n",
        "# Yemen, North/Yemen Arab Rep.\n"
      ],
      "execution_count": 14,
      "outputs": [
        {
          "output_type": "stream",
          "text": [
            "Checando quantos nomes únicos de países tenho\n",
            "191\n",
            "\n",
            "Checando quantos códigos de países tenho duplicados (país com mais de uma grafia)\n",
            "8\n",
            "\n",
            "Checando se a diferença no tamanho dos datasets sao devido aos países duplicados\n",
            "True\n"
          ],
          "name": "stdout"
        }
      ]
    },
    {
      "cell_type": "code",
      "metadata": {
        "colab": {
          "base_uri": "https://localhost:8080/"
        },
        "id": "AsKBWzyep7a5",
        "outputId": "d99eaaae-53c4-4d1e-f2fd-e68776836e77"
      },
      "source": [
        "#######\n",
        "# PWT #\n",
        "#######\n",
        "\n",
        "# Renomeando coluna, preparando pro merge\n",
        "fr.rename(columns={'Country':'country'}, inplace = True)\n",
        "\n",
        "# - Alerta: Varias células indicam 'NAN' (não havia regra fiscal no momento). Poderia mudar para 0?\n",
        "# Sim. Os papers que constroem indices de regras fiscais mudam para 0.\n",
        "fr2  = fr[:]\n",
        "fr2[['stab_n', 'stab_s']]  = fr2[['stab_n', 'stab_s']].fillna(0)\n",
        "\n",
        "\n",
        "# Calculando a média entre os anos, renomeando e acrescentando o código do país\n",
        "fr2  = pd.merge(fr2, countries_code3, on='country', how='left')\n",
        "fr2  = fr2.groupby('countrycode').mean()\n",
        "fr2  = fr2.rename_axis('countrycode').reset_index()\n",
        "\n",
        "\n",
        "# Selecionando apenas as colunas que indicam regra fiscal que estabiliza ou nao o ciclo\n",
        "fr2[['stab_n', 'stab_s']] = fr2[['stab_n', 'stab_s']].fillna(0)\n",
        "fr2  = fr2[['countrycode', 'stab_n', 'stab_s']]\n",
        "\n",
        "\n",
        "####################################################\n",
        "# Verificando consistencia nos dados após agregação\n",
        "####################################################\n",
        "\n",
        "# Apenas deixo nomes de países unicos\n",
        "teste  = fr[:]\n",
        "teste[['stab_n', 'stab_s']]  = teste[['stab_n', 'stab_s']].fillna(0)\n",
        "teste = teste.groupby('country').mean().rename_axis('country').reset_index()\n",
        "\n",
        "# Possuo 76 nomes de países\n",
        "print('Checando quantos nomes únicos de países tenho')\n",
        "print(len(teste))\n",
        "print()\n",
        "\n",
        "# Selecionando variáveis que serão mais faceis de visualizar\n",
        "teste = teste[['country', 'stab_n']]\n",
        "\n",
        "# Fazendo o left-join\n",
        "teste = pd.merge(teste, countries_code3, on='country', how='left')\n",
        "\n",
        "# Verificando quais são os países duplicados. Em geral, sao países que mudaram de nome\n",
        "dups = [x for x in teste['countrycode'].tolist() if teste['countrycode'].tolist().count(x) > 1]\n",
        "\n",
        "# Países excluídos pq estão duplicados: 0\n",
        "print('Checando quantos códigos de países tenho duplicados (país com mais de uma grafia)')\n",
        "print(len(dups) - len( list(set(dups) ) ))\n",
        "print()\n",
        "\n",
        "\n",
        "# Verificando se a diferença no tamanho dos datasets sao devido aos países duplicados\n",
        "print('Checando se a diferença no tamanho dos datasets sao devido aos países duplicados')\n",
        "print(len(teste) - len(fr2) == len(dups) - len( list(set(dups) ) ))"
      ],
      "execution_count": 15,
      "outputs": [
        {
          "output_type": "stream",
          "text": [
            "Checando quantos nomes únicos de países tenho\n",
            "96\n",
            "\n",
            "Checando quantos códigos de países tenho duplicados (país com mais de uma grafia)\n",
            "0\n",
            "\n",
            "Checando se a diferença no tamanho dos datasets sao devido aos países duplicados\n",
            "True\n"
          ],
          "name": "stdout"
        }
      ]
    },
    {
      "cell_type": "code",
      "metadata": {
        "colab": {
          "base_uri": "https://localhost:8080/",
          "height": 359
        },
        "id": "7jJAN_v1p9vM",
        "outputId": "829700b4-bfc1-4830-9f45-134d9c2f717d"
      },
      "source": [
        "# Calculando a média entre os anos e renomeando\n",
        "pwt['gdp_percapta'] = pwt['csh_c']/pwt['pop']\n",
        "pwt['emp_pop'] = pwt['emp']/pwt['pop']\n",
        "pwt2 = pwt.groupby('countrycode').mean()\n",
        "pwt2 = pwt2.rename_axis('countrycode').reset_index()\n",
        "\n",
        "# Selecionando pib per capita, PO, horas trabalhadas média por pessoa, Human capital index\n",
        "# Welfare-relevant TFP, Share of labour compensation in GDP\n",
        "pwt2 = pwt2[['countrycode', 'gdp_percapta', 'emp_pop', 'avh', 'hc', 'rwtfpna', 'labsh']]\n",
        "\n",
        "\n",
        "################################################################\n",
        "\n",
        "# Renomenado a coluna Code\n",
        "ipd2 = ipd[:]\n",
        "ipd2.rename(columns={'Code':'countrycode'}, inplace=True)\n",
        "ipd2 = ipd2.drop(['Country', 'Year', 'Income level', 'Region'], axis = 1)\n",
        "\n",
        "################################################################\n",
        "\n",
        "# Juntando todas as variáveis em um único dataframe\n",
        "dataframe = pd.merge( cbi2, fr2, on ='countrycode', how='outer')\n",
        "dataframe = pd.merge( dataframe, pwt2, on='countrycode', how='outer')\n",
        "dataframe = pd.merge( dataframe, ipd2, on='countrycode', how='outer')\n",
        "dataframe = pd.merge( dataframe, pol_variables2, on='countrycode', how='outer')\n",
        "\n",
        "# Os países que nao tem FR nao aparecem nesse banco de dados. Isto é, as regras  = 0\n",
        "dataframe[['stab_n', 'stab_s']] = dataframe[['stab_n', 'stab_s']].fillna(0)\n",
        "\n",
        "dataframe[['countrycode', 'gdp_percapta']].head( n = 10)"
      ],
      "execution_count": 16,
      "outputs": [
        {
          "output_type": "execute_result",
          "data": {
            "text/html": [
              "<div>\n",
              "<style scoped>\n",
              "    .dataframe tbody tr th:only-of-type {\n",
              "        vertical-align: middle;\n",
              "    }\n",
              "\n",
              "    .dataframe tbody tr th {\n",
              "        vertical-align: top;\n",
              "    }\n",
              "\n",
              "    .dataframe thead th {\n",
              "        text-align: right;\n",
              "    }\n",
              "</style>\n",
              "<table border=\"1\" class=\"dataframe\">\n",
              "  <thead>\n",
              "    <tr style=\"text-align: right;\">\n",
              "      <th></th>\n",
              "      <th>countrycode</th>\n",
              "      <th>gdp_percapta</th>\n",
              "    </tr>\n",
              "  </thead>\n",
              "  <tbody>\n",
              "    <tr>\n",
              "      <th>0</th>\n",
              "      <td>AFG</td>\n",
              "      <td>NaN</td>\n",
              "    </tr>\n",
              "    <tr>\n",
              "      <th>1</th>\n",
              "      <td>AGO</td>\n",
              "      <td>0.031580</td>\n",
              "    </tr>\n",
              "    <tr>\n",
              "      <th>2</th>\n",
              "      <td>ALB</td>\n",
              "      <td>0.256826</td>\n",
              "    </tr>\n",
              "    <tr>\n",
              "      <th>3</th>\n",
              "      <td>ARE</td>\n",
              "      <td>0.161813</td>\n",
              "    </tr>\n",
              "    <tr>\n",
              "      <th>4</th>\n",
              "      <td>ARG</td>\n",
              "      <td>0.025891</td>\n",
              "    </tr>\n",
              "    <tr>\n",
              "      <th>5</th>\n",
              "      <td>ARM</td>\n",
              "      <td>0.244836</td>\n",
              "    </tr>\n",
              "    <tr>\n",
              "      <th>6</th>\n",
              "      <td>ATG</td>\n",
              "      <td>10.170944</td>\n",
              "    </tr>\n",
              "    <tr>\n",
              "      <th>7</th>\n",
              "      <td>AUS</td>\n",
              "      <td>0.040376</td>\n",
              "    </tr>\n",
              "    <tr>\n",
              "      <th>8</th>\n",
              "      <td>AUT</td>\n",
              "      <td>0.079310</td>\n",
              "    </tr>\n",
              "    <tr>\n",
              "      <th>9</th>\n",
              "      <td>AZE</td>\n",
              "      <td>0.058354</td>\n",
              "    </tr>\n",
              "  </tbody>\n",
              "</table>\n",
              "</div>"
            ],
            "text/plain": [
              "  countrycode  gdp_percapta\n",
              "0         AFG           NaN\n",
              "1         AGO      0.031580\n",
              "2         ALB      0.256826\n",
              "3         ARE      0.161813\n",
              "4         ARG      0.025891\n",
              "5         ARM      0.244836\n",
              "6         ATG     10.170944\n",
              "7         AUS      0.040376\n",
              "8         AUT      0.079310\n",
              "9         AZE      0.058354"
            ]
          },
          "metadata": {
            "tags": []
          },
          "execution_count": 16
        }
      ]
    },
    {
      "cell_type": "code",
      "metadata": {
        "colab": {
          "base_uri": "https://localhost:8080/"
        },
        "id": "aiz3AKQwsPaT",
        "outputId": "689464c0-c718-45a4-a356-3fc3e3e4dae4"
      },
      "source": [
        "###############################################################\n",
        "\n",
        "# Verificando quais são os países duplicados. Em geral, sao países que mudaram de nome\n",
        "dups = [x for x in dataframe['countrycode'].tolist() if dataframe['countrycode'].tolist().count(x) > 1]\n",
        "\n",
        "# Total de países no meu dataframe final: 198\n",
        "paises1 = dataframe.drop_duplicates('countrycode', keep = 'first')\n",
        "print('Checando quantos países únicos tenho na base final')\n",
        "print(len(paises1))\n",
        "print()\n",
        "\n",
        "# Zero países duplicados, o que é bom indicio\n",
        "print('Checando quantos duplicados')\n",
        "print(len(dups))\n",
        "print('Checando quais duplicados')\n",
        "print(dups)\n",
        "print()\n",
        "\n",
        "# Verificando o total de países: 198\n",
        "paises2 = countries_code3.drop_duplicates('countrycode', keep = 'first')\n",
        "print('Total de países no dicionário')\n",
        "print(len(paises2))\n",
        "print()\n",
        "\n",
        "print('Todos os países estão no dicionário?')\n",
        "print(len(paises1)) == print(len(paises2))"
      ],
      "execution_count": 17,
      "outputs": [
        {
          "output_type": "stream",
          "text": [
            "Checando quantos países únicos tenho na base final\n",
            "268\n",
            "\n",
            "Checando quantos duplicados\n",
            "0\n",
            "Checando quais duplicados\n",
            "[]\n",
            "\n",
            "Total de países no dicionário\n",
            "198\n",
            "\n",
            "Todos os países estão no dicionário?\n",
            "268\n",
            "198\n"
          ],
          "name": "stdout"
        },
        {
          "output_type": "execute_result",
          "data": {
            "text/plain": [
              "True"
            ]
          },
          "metadata": {
            "tags": []
          },
          "execution_count": 17
        }
      ]
    },
    {
      "cell_type": "markdown",
      "metadata": {
        "id": "UirWcaZiP3DV"
      },
      "source": [
        "#4) Exportando "
      ]
    },
    {
      "cell_type": "code",
      "metadata": {
        "colab": {
          "base_uri": "https://localhost:8080/",
          "height": 17
        },
        "id": "O1NOy9pdNqeQ",
        "outputId": "d41ec611-ada5-40b4-df1c-c33b32b37ccf"
      },
      "source": [
        "# Exportanto dados\n",
        "\n",
        "dataframe.to_csv('countries_data.csv')\n",
        "files.download('countries_data.csv')"
      ],
      "execution_count": 19,
      "outputs": [
        {
          "output_type": "display_data",
          "data": {
            "application/javascript": [
              "\n",
              "    async function download(id, filename, size) {\n",
              "      if (!google.colab.kernel.accessAllowed) {\n",
              "        return;\n",
              "      }\n",
              "      const div = document.createElement('div');\n",
              "      const label = document.createElement('label');\n",
              "      label.textContent = `Downloading \"${filename}\": `;\n",
              "      div.appendChild(label);\n",
              "      const progress = document.createElement('progress');\n",
              "      progress.max = size;\n",
              "      div.appendChild(progress);\n",
              "      document.body.appendChild(div);\n",
              "\n",
              "      const buffers = [];\n",
              "      let downloaded = 0;\n",
              "\n",
              "      const channel = await google.colab.kernel.comms.open(id);\n",
              "      // Send a message to notify the kernel that we're ready.\n",
              "      channel.send({})\n",
              "\n",
              "      for await (const message of channel.messages) {\n",
              "        // Send a message to notify the kernel that we're ready.\n",
              "        channel.send({})\n",
              "        if (message.buffers) {\n",
              "          for (const buffer of message.buffers) {\n",
              "            buffers.push(buffer);\n",
              "            downloaded += buffer.byteLength;\n",
              "            progress.value = downloaded;\n",
              "          }\n",
              "        }\n",
              "      }\n",
              "      const blob = new Blob(buffers, {type: 'application/binary'});\n",
              "      const a = document.createElement('a');\n",
              "      a.href = window.URL.createObjectURL(blob);\n",
              "      a.download = filename;\n",
              "      div.appendChild(a);\n",
              "      a.click();\n",
              "      div.remove();\n",
              "    }\n",
              "  "
            ],
            "text/plain": [
              "<IPython.core.display.Javascript object>"
            ]
          },
          "metadata": {
            "tags": []
          }
        },
        {
          "output_type": "display_data",
          "data": {
            "application/javascript": [
              "download(\"download_ca80f461-a240-473c-9d5d-33dd5495436e\", \"countries_data.csv\", 294258)"
            ],
            "text/plain": [
              "<IPython.core.display.Javascript object>"
            ]
          },
          "metadata": {
            "tags": []
          }
        }
      ]
    }
  ]
}