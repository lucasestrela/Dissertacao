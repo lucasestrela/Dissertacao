{
  "nbformat": 4,
  "nbformat_minor": 0,
  "metadata": {
    "colab": {
      "name": "Construindo_DataFrame",
      "provenance": [],
      "authorship_tag": "ABX9TyN/fSZiQb7wpmZj4w01OIly",
      "include_colab_link": true
    },
    "kernelspec": {
      "name": "python3",
      "display_name": "Python 3"
    }
  },
  "cells": [
    {
      "cell_type": "markdown",
      "metadata": {
        "id": "view-in-github",
        "colab_type": "text"
      },
      "source": [
        "<a href=\"https://colab.research.google.com/github/lucasestrela/Dissertacao/blob/main/Construindo_DataFrame.ipynb\" target=\"_parent\"><img src=\"https://colab.research.google.com/assets/colab-badge.svg\" alt=\"Open In Colab\"/></a>"
      ]
    },
    {
      "cell_type": "markdown",
      "metadata": {
        "id": "XNBSSk3_NvJ1"
      },
      "source": [
        "# 1) Importando pacotes"
      ]
    },
    {
      "cell_type": "code",
      "metadata": {
        "id": "AWAQwLPRNfWS"
      },
      "source": [
        "import numpy as np\r\n",
        "import pandas as pd\r\n",
        "from google.colab import files"
      ],
      "execution_count": 8,
      "outputs": []
    },
    {
      "cell_type": "code",
      "metadata": {
        "id": "yQKWhFGZNheL"
      },
      "source": [
        "#############################################################################\r\n",
        "######################## --- Lendo Base de Dados --- ########################\r\n",
        "#############################################################################\r\n",
        "\r\n",
        "cbi = pd.read_excel('https://github.com/lucasestrela/Dissertacao/blob/main/Dados/CBI_data_2019.xlsx?raw=true',\r\n",
        "                    sheet_name = 'Sheet1'\r\n",
        "                    )\r\n",
        "\r\n",
        "\r\n",
        "\r\n",
        "fr = pd.read_stata('https://github.com/lucasestrela/Dissertacao/blob/main/Dados/fiscal_rule_database.dta?raw=true'\r\n",
        "                    )\r\n",
        "\r\n",
        "\r\n",
        "\r\n",
        "ipd = pd.read_excel('https://github.com/lucasestrela/Dissertacao/blob/main/Dados/IPD_2016.xlsx?raw=true',\r\n",
        "                    sheet_name = 'Variables',\r\n",
        "                    header = 0\r\n",
        "                    )\r\n",
        "\r\n",
        "\r\n",
        "pwt = pd.read_excel('https://github.com/lucasestrela/Dissertacao/blob/main/Dados/pwt100.xlsx?raw=true',\r\n",
        "                    sheet_name = 'Data'\r\n",
        "                    )"
      ],
      "execution_count": 3,
      "outputs": []
    },
    {
      "cell_type": "markdown",
      "metadata": {
        "id": "Vqr5aqKFNzey"
      },
      "source": [
        "# 2) Construindo um dicionário\r\n",
        "\r\n",
        "Nesta seção, irei construir um dicionário com **nomes dos países** (que por vezes estão escritos de diferentes maneiras) e **código dos países**. Assim, conseguirei manter um padrão (usando o código do país) entre as diferentes bases de dados"
      ]
    },
    {
      "cell_type": "code",
      "metadata": {
        "id": "1bFp22BhNV0W"
      },
      "source": [
        "####################################################################\r\n",
        "######################## --- Dicionário --- ########################\r\n",
        "####################################################################\r\n",
        "\r\n",
        "# Dicionario1: Extraindo os codigos dos países em PWT\r\n",
        "countries_code = pwt[['country', 'countrycode']].drop_duplicates('country', keep = 'first')\r\n",
        "\r\n",
        "\r\n",
        "\r\n",
        "# Dicionario2: Extraindo os codigos dos países em IPD\r\n",
        "countries_code2 = ipd[['Country', 'Code']].drop_duplicates('Country', keep = 'first')\r\n",
        "countries_code2.columns = ['country', 'countrycode']\r\n",
        "\r\n",
        "\r\n",
        "\r\n",
        "# Empilhando ambos os dicionarios\r\n",
        "countries_code3 = pd.concat([countries_code, countries_code2], ignore_index=True)\r\n",
        "\r\n",
        "\r\n",
        "####################################################################\r\n",
        "\r\n",
        "\r\n",
        "# Checando países em que o merge nao deu certo, isto é, existe o\r\n",
        "# país em cbi2 (onde tem mais países) e não existe código corres\r\n",
        "# pondente em fr2\r\n",
        "# paises_sem_codigo = cbi2[cbi2['countrycode'].isnull()]['country']\r\n",
        "\r\n",
        "\r\n",
        "paises_faltantes = np.array([\r\n",
        "                            ['Antigua & Barbuda', 'ATG'],\r\n",
        "                            ['Bosnia-Herzegovina', 'BIH'],\r\n",
        "                            ['Cape Verde', 'CPV'],\r\n",
        "                            ['Congo, Democratic Republic of / Za', 'COG'],\r\n",
        "                            ['Congo, Republic of', 'COG'],\r\n",
        "                            ['Ethiopia (incl. Eritrea)', 'ETH'],\r\n",
        "                            ['Iran', 'IRN'],\r\n",
        "                            ['Ivory Coast', 'CIV'],\r\n",
        "                            ['Korea, Republic of', 'KOR'],\r\n",
        "                            ['Laos', 'LAO'],\r\n",
        "                            ['Myanmar (Burma)', 'MMR'],\r\n",
        "                            ['Papua New Guinea', 'PNG'],\r\n",
        "                            ['Samoa', 'WSM'],\r\n",
        "                            ['San Marino', 'SMR'],\r\n",
        "                            ['Serbia and Montenegro','SRB'], #2003, 2004, 2005 (data from CBI)\r\n",
        "                            ['Solomon Islands', 'SLB'],\r\n",
        "                            ['St. Kitts and Nevis', 'KNA'],\r\n",
        "                            ['Swaziland', 'SWZ'], # Mudou de nome para Eswatini (from CBI)\r\n",
        "                            ['Syria', 'SYR'],\r\n",
        "                            ['Timor-Leste', 'TLS'],\r\n",
        "                            ['Tonga', 'TON'],\r\n",
        "                            ['United States of America', 'USA'],\r\n",
        "                            ['Vanuatu', 'VUT'],\r\n",
        "                            ['Venezuela', 'VEN'],\r\n",
        "                            ['Yemen, North', 'YEM'],\r\n",
        "                            ['Yemen, North/Yemen Arab Rep.', 'YEM'],\r\n",
        "                            ['Yugoslavia (Serbia-Montenegro)','SRB'], #92-2002 (serbia montenegro)\r\n",
        "                            ['Yugoslavia (Socialist Rep)', 'SRB'], # 70-91 (socialist republic)\r\n",
        "                            ['Zaire', 'COG'] # Congo entre 71-97\r\n",
        "                            ])\r\n",
        "\r\n",
        "# PWT: 1950-2019 é tudo SERBIA SRB \r\n",
        "\r\n",
        "\r\n",
        "# Transformando em dataframe do pandas\r\n",
        "paises_faltantes = pd.DataFrame(paises_faltantes, columns = ['country', 'countrycode'])\r\n",
        "\r\n",
        "\r\n",
        "#Empilhando ambos os dicionarios\r\n",
        "countries_code3 = pd.concat([paises_faltantes, countries_code3], ignore_index=True)"
      ],
      "execution_count": 4,
      "outputs": []
    },
    {
      "cell_type": "markdown",
      "metadata": {
        "id": "hom5pmPWOYEc"
      },
      "source": [
        "# 3) Manipulando os dados\r\n",
        "\r\n",
        "Nesta seção, para os dataframes que possuem séries temporais calculo a média total entre todos os anos, como uma forma de agregar as observações (*).\r\n",
        "\r\n",
        "Para cada dataframe incorporo o dicionário de códigos, padronizando o nome de cada país para o seu respectivo código (ISO Alpha 3 Code).\r\n",
        "\r\n",
        "Além disso, junto todos os dataframes.\r\n",
        "\r\n",
        "\r\n",
        "---\r\n",
        "(*)   Para agregar, posso testar usar a variância ou alguma outra métrica.\r\n",
        "\r\n"
      ]
    },
    {
      "cell_type": "code",
      "metadata": {
        "id": "kpgqeM9ANlw2"
      },
      "source": [
        "###########################################################################\r\n",
        "######################## --- Manipulando Dados --- ########################\r\n",
        "###########################################################################\r\n",
        "\r\n",
        "\r\n",
        "# Calculando a média entre os anos, renomeando e acrescentando o código do país\r\n",
        "cbi2 = cbi.groupby('cname').mean()\r\n",
        "cbi2 = cbi2.rename_axis('country').reset_index()\r\n",
        "cbi2 = pd.merge(cbi2, countries_code3, on='country', left_index=True, right_index=True, how='left')\r\n",
        "\r\n",
        "# Selecionando apenas as colunas que interessam\r\n",
        "cbi2 = cbi2[['countrycode', 'lvau_garriga', 'lvaw_garriga']]\r\n",
        "\r\n",
        "\r\n",
        "################################################################\r\n",
        "\r\n",
        "# - Alerta: Varias células indicam 'NAN' (não havia regra fiscal no momento). Poderia mudar para 0?\r\n",
        "# Sim. Os papers que constroem indices de regras fiscais mudam para 0.\r\n",
        "fr2  = fr[:]\r\n",
        "fr2[['stab_n', 'stab_s']]  = fr2[['stab_n', 'stab_s']].fillna(0)\r\n",
        "\r\n",
        "# Calculando a média entre os anos, renomeando e acrescentando o código do país\r\n",
        "fr2  = fr2.groupby('Country').mean()\r\n",
        "fr2  = fr2.rename_axis('country').reset_index()\r\n",
        "fr2  = pd.merge(fr2, countries_code3, on='country', left_index=True, right_index=True, how='left')\r\n",
        "\r\n",
        "\r\n",
        "\r\n",
        "# Selecionando apenas as colunas que indicam regra fiscal que estabiliza ou nao o ciclo\r\n",
        "fr2[['stab_n', 'stab_s']] = fr2[['stab_n', 'stab_s']].fillna(0)\r\n",
        "fr2  = fr2[['countrycode', 'stab_n', 'stab_s']]\r\n",
        "\r\n",
        "################################################################\r\n",
        "\r\n",
        "\r\n",
        "# Calculando a média entre os anos e renomeando\r\n",
        "pwt['gdp_percapta'] = pwt['csh_c']/pwt['pop']\r\n",
        "pwt['emp_pop'] = pwt['emp']/pwt['pop']\r\n",
        "pwt2 = pwt.groupby('countrycode').mean()\r\n",
        "pwt2 = pwt2.rename_axis('countrycode').reset_index()\r\n",
        "\r\n",
        "# Selecionando pib per capita, PO, horas trabalhadas média por pessoa, Human capital index\r\n",
        "# Welfare-relevant TFP, Share of labour compensation in GDP\r\n",
        "pwt2 = pwt2[['countrycode', 'gdp_percapta', 'emp_pop', 'avh', 'hc', 'rwtfpna', 'labsh']]\r\n",
        "\r\n",
        "\r\n",
        "\r\n",
        "################################################################\r\n",
        "\r\n",
        "# Renomenado a coluna Code\r\n",
        "ipd2 = ipd[:]\r\n",
        "ipd2.rename(columns={'Code':'countrycode'}, inplace=True)\r\n",
        "\r\n",
        "ipd2 = ipd2.drop(['Country', 'Year', 'Income level', 'Region'], axis = 1)\r\n",
        "\r\n",
        "################################################################\r\n",
        "\r\n",
        "# Juntando todas as variáveis em um único dataframe\r\n",
        "dataframe = pd.merge( cbi2, fr2, on ='countrycode', left_index=True, right_index=True, how='left')\r\n",
        "dataframe = pd.merge( dataframe, pwt2, on='countrycode', left_index=True, right_index=True, how='left')\r\n",
        "dataframe = pd.merge( dataframe, ipd2, on='countrycode', left_index=True, right_index=True, how='left')\r\n",
        "\r\n",
        "# Os países que nao tem FR nao aparecem nesse banco de dados\r\n",
        "dataframe[['stab_n', 'stab_s']] = dataframe[['stab_n', 'stab_s']].fillna(0)\r\n",
        "\r\n"
      ],
      "execution_count": 5,
      "outputs": []
    },
    {
      "cell_type": "markdown",
      "metadata": {
        "id": "UirWcaZiP3DV"
      },
      "source": [
        "#4) Exportando "
      ]
    },
    {
      "cell_type": "code",
      "metadata": {
        "colab": {
          "base_uri": "https://localhost:8080/",
          "height": 17
        },
        "id": "O1NOy9pdNqeQ",
        "outputId": "a367d180-b3dd-44c4-e374-4e8538d43e71"
      },
      "source": [
        "# Exportanto dados\r\n",
        "\r\n",
        "dataframe.to_csv('countries_data.csv')\r\n",
        "files.download('countries_data.csv')"
      ],
      "execution_count": 9,
      "outputs": [
        {
          "output_type": "display_data",
          "data": {
            "application/javascript": [
              "\n",
              "    async function download(id, filename, size) {\n",
              "      if (!google.colab.kernel.accessAllowed) {\n",
              "        return;\n",
              "      }\n",
              "      const div = document.createElement('div');\n",
              "      const label = document.createElement('label');\n",
              "      label.textContent = `Downloading \"${filename}\": `;\n",
              "      div.appendChild(label);\n",
              "      const progress = document.createElement('progress');\n",
              "      progress.max = size;\n",
              "      div.appendChild(progress);\n",
              "      document.body.appendChild(div);\n",
              "\n",
              "      const buffers = [];\n",
              "      let downloaded = 0;\n",
              "\n",
              "      const channel = await google.colab.kernel.comms.open(id);\n",
              "      // Send a message to notify the kernel that we're ready.\n",
              "      channel.send({})\n",
              "\n",
              "      for await (const message of channel.messages) {\n",
              "        // Send a message to notify the kernel that we're ready.\n",
              "        channel.send({})\n",
              "        if (message.buffers) {\n",
              "          for (const buffer of message.buffers) {\n",
              "            buffers.push(buffer);\n",
              "            downloaded += buffer.byteLength;\n",
              "            progress.value = downloaded;\n",
              "          }\n",
              "        }\n",
              "      }\n",
              "      const blob = new Blob(buffers, {type: 'application/binary'});\n",
              "      const a = document.createElement('a');\n",
              "      a.href = window.URL.createObjectURL(blob);\n",
              "      a.download = filename;\n",
              "      div.appendChild(a);\n",
              "      a.click();\n",
              "      div.remove();\n",
              "    }\n",
              "  "
            ],
            "text/plain": [
              "<IPython.core.display.Javascript object>"
            ]
          },
          "metadata": {
            "tags": []
          }
        },
        {
          "output_type": "display_data",
          "data": {
            "application/javascript": [
              "download(\"download_4c2c1432-0a0a-4cc1-a633-b1e7bdb3f50c\", \"countries_data.csv\", 223220)"
            ],
            "text/plain": [
              "<IPython.core.display.Javascript object>"
            ]
          },
          "metadata": {
            "tags": []
          }
        }
      ]
    }
  ]
}