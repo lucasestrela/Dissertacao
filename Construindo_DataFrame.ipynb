{
  "nbformat": 4,
  "nbformat_minor": 0,
  "metadata": {
    "colab": {
      "name": "Construindo_DataFrame",
      "provenance": [],
      "authorship_tag": "ABX9TyMZdV+3C5xz9CGeFZiGJz88",
      "include_colab_link": true
    },
    "kernelspec": {
      "name": "python3",
      "display_name": "Python 3"
    }
  },
  "cells": [
    {
      "cell_type": "markdown",
      "metadata": {
        "id": "view-in-github",
        "colab_type": "text"
      },
      "source": [
        "<a href=\"https://colab.research.google.com/github/lucasestrela/Dissertacao/blob/main/Construindo_DataFrame.ipynb\" target=\"_parent\"><img src=\"https://colab.research.google.com/assets/colab-badge.svg\" alt=\"Open In Colab\"/></a>"
      ]
    },
    {
      "cell_type": "markdown",
      "metadata": {
        "id": "XNBSSk3_NvJ1"
      },
      "source": [
        "# 1) Importando pacotes"
      ]
    },
    {
      "cell_type": "code",
      "metadata": {
        "id": "AWAQwLPRNfWS"
      },
      "source": [
        "import numpy as np\r\n",
        "import pandas as pd\r\n",
        "from google.colab import files"
      ],
      "execution_count": 27,
      "outputs": []
    },
    {
      "cell_type": "code",
      "metadata": {
        "id": "yQKWhFGZNheL"
      },
      "source": [
        "#############################################################################\r\n",
        "######################## --- Lendo Base de Dados --- ########################\r\n",
        "#############################################################################\r\n",
        "\r\n",
        "cbi = pd.read_excel('https://github.com/lucasestrela/Dissertacao/blob/main/Dados/CBI_data_2019.xlsx?raw=true',\r\n",
        "                    sheet_name = 'Sheet1'\r\n",
        "                    )\r\n",
        "\r\n",
        "\r\n",
        "\r\n",
        "fr = pd.read_stata('https://github.com/lucasestrela/Dissertacao/blob/main/Dados/fiscal_rule_database.dta?raw=true'\r\n",
        "                    )\r\n",
        "\r\n",
        "\r\n",
        "\r\n",
        "ipd = pd.read_excel('https://github.com/lucasestrela/Dissertacao/blob/main/Dados/IPD_2016.xlsx?raw=true',\r\n",
        "                    sheet_name = 'Variables',\r\n",
        "                    header = 0\r\n",
        "                    )\r\n",
        "\r\n",
        "\r\n",
        "pwt = pd.read_excel('https://github.com/lucasestrela/Dissertacao/blob/main/Dados/pwt100.xlsx?raw=true',\r\n",
        "                    sheet_name = 'Data'\r\n",
        "                    )"
      ],
      "execution_count": 28,
      "outputs": []
    },
    {
      "cell_type": "markdown",
      "metadata": {
        "id": "Vqr5aqKFNzey"
      },
      "source": [
        "# 2) Construindo um dicionário\r\n",
        "\r\n",
        "Nesta seção, irei construir um dicionário com **nomes dos países** (que por vezes estão escritos de diferentes maneiras) e **código dos países**. Assim, conseguirei manter um padrão (usando o código do país) entre as diferentes bases de dados"
      ]
    },
    {
      "cell_type": "code",
      "metadata": {
        "id": "1bFp22BhNV0W"
      },
      "source": [
        "####################################################################\r\n",
        "######################## --- Dicionário --- ########################\r\n",
        "####################################################################\r\n",
        "\r\n",
        "# Dicionario1: Extraindo os codigos dos países em PWT\r\n",
        "countries_code = pwt[['country', 'countrycode']].drop_duplicates('country', keep = 'first')\r\n",
        "\r\n",
        "\r\n",
        "# Consertando esse erro de label (muda nada na pratica, mas deixo padronizado ISO3)\r\n",
        "ipd.loc[ipd['Country'] == 'Comoros', 'Code'] = 'COM' \r\n",
        "ipd.loc[ipd['Country'] == 'Eritrea', 'Code'] = 'ERI'\r\n",
        "\r\n",
        "\r\n",
        "# Dicionario2: Extraindo os codigos dos países em IPD\r\n",
        "countries_code2 = ipd[['Country', 'Code']].drop_duplicates('Country', keep = 'first')\r\n",
        "countries_code2.columns = ['country', 'countrycode']\r\n",
        "\r\n",
        "\r\n",
        "# Empilhando ambos os dicionarios\r\n",
        "countries_code3 = pd.concat([countries_code, countries_code2], ignore_index=True).drop_duplicates('country', keep = 'first')"
      ],
      "execution_count": 29,
      "outputs": []
    },
    {
      "cell_type": "markdown",
      "metadata": {
        "id": "fGHyA_XroHRp"
      },
      "source": [
        "Empilhar o nome e os códigos dos países de dois dataframes (PWT e IPD) foi útil, já que podem existir grafias diferentes do país para um mesmo código. No entanto, isso não esgota os países, nem as grafias.\r\n",
        "\r\n",
        "Por exemplo, existem países que estão no dataframe CBI e PWT que não estão nesse dicionário criado. Para resolver isso, abaixo eu adiciono manualmente os países que estão faltando.\r\n",
        "\r\n",
        "\r\n",
        "Um potencial problema são países que foram fragmentados, por exemplo, Yuguslavia -> Serbia-Montenegro -> Serbia e Montenegro. Nesse caso especificamente eu optei por agregar YUG e Serbia-Montenegro durante o período que foi um único país, a partir da separação, separei em 2 codigos distindos. A grande questão é que a PWT (os dados de consumo) estão separados desde 1950 (não encontrei a metodologia para o split)."
      ]
    },
    {
      "cell_type": "code",
      "metadata": {
        "id": "Wm8su90WoHyv"
      },
      "source": [
        "####################################################################\r\n",
        "\r\n",
        "\r\n",
        "# Checando países em que o merge nao deu certo, isto é, existe o\r\n",
        "# país em cbi2 (onde tem mais países) e não existe código corres\r\n",
        "# pondente em fr2\r\n",
        "# paises_sem_codigo = cbi2[cbi2['countrycode'].isnull()]['country']\r\n",
        "\r\n",
        "\r\n",
        "paises_faltantes = np.array([\r\n",
        "                            ['Antigua & Barbuda', 'ATG'],\r\n",
        "                            ['Bosnia-Herzegovina', 'BIH'],\r\n",
        "                            ['Cape Verde', 'CPV'],\r\n",
        "                            ['Congo, Democratic Republic of / Za', 'COD'],\r\n",
        "                            ['Congo, Republic of', 'COG'],\r\n",
        "                            ['Ethiopia (incl. Eritrea)', 'ETH'],\r\n",
        "                            ['Guinea Bissau', 'GNB'],\r\n",
        "                            ['Hong Kong SAR', 'HKG'],\r\n",
        "                            ['Iran', 'IRN'],\r\n",
        "                            ['Ivory Coast', 'CIV'],\r\n",
        "                            ['Korea, Republic of', 'KOR'],\r\n",
        "                            ['Kosovo', 'XKX'], #Kosovo is not listed as an ISO standard country. The unofficial 2 and 3-digit codes are used by the European Commission and others until Kosovo is assigned an ISO code.\r\n",
        "                            ['Laos', 'LAO'],\r\n",
        "                            ['Myanmar (Burma)', 'MMR'],\r\n",
        "                            ['Papua New Guinea', 'PNG'],\r\n",
        "                            ['Russia', 'RUS'],\r\n",
        "                            ['Samoa', 'WSM'],\r\n",
        "                            ['San Marino', 'SMR'],\r\n",
        "                            ['Serbia and Montenegro','YUG'], #2003, 2004, 2005 (data from CBI)\r\n",
        "                            ['Solomon Islands', 'SLB'],\r\n",
        "                            ['St. Kitts and Nevis', 'KNA'],\r\n",
        "                            ['St. Lucia', 'LCA'],\r\n",
        "                            ['Swaziland', 'SWZ'], # Mudou de nome para Eswatini (from CBI)\r\n",
        "                            ['Syria', 'SYR'],\r\n",
        "                            ['Timor-Leste', 'TLS'],\r\n",
        "                            ['Tonga', 'TON'],\r\n",
        "                            ['United States of America', 'USA'],\r\n",
        "                            ['Vanuatu', 'VUT'],\r\n",
        "                            ['Venezuela', 'VEN'],\r\n",
        "                            ['Yemen, North', 'YEM'],\r\n",
        "                            ['Yemen, North/Yemen Arab Rep.', 'YEM'],\r\n",
        "                            ['Yugoslavia (Serbia-Montenegro)','YUG'], #92-2002 (serbia montenegro)\r\n",
        "                            ['Yugoslavia (Socialist Rep)', 'YUG'], # 70-91 (socialist republic)\r\n",
        "                            ['Zaire', 'COD'] # Rep. Demon. Congo entre 71-97\r\n",
        "                            ])\r\n",
        "\r\n",
        "\r\n",
        "# Transformando em dataframe do pandas\r\n",
        "paises_faltantes = pd.DataFrame(paises_faltantes, columns = ['country', 'countrycode'])\r\n",
        "\r\n",
        "\r\n",
        "# Empilhando ambos os dicionarios\r\n",
        "countries_code3 = pd.concat([paises_faltantes, countries_code3], ignore_index=True)"
      ],
      "execution_count": 30,
      "outputs": []
    },
    {
      "cell_type": "markdown",
      "metadata": {
        "id": "hom5pmPWOYEc"
      },
      "source": [
        "# 3) Manipulando os dados\r\n",
        "\r\n",
        "Nesta seção, para os dataframes que possuem séries temporais calculo a média total entre todos os anos, como uma forma de agregar as observações (*).\r\n",
        "\r\n",
        "Para cada dataframe incorporo o dicionário de códigos, padronizando o nome de cada país para o seu respectivo código (ISO Alpha 3 Code).\r\n",
        "\r\n",
        "Além disso, junto todos os dataframes.\r\n",
        "\r\n",
        "\r\n",
        "---\r\n",
        "(*)   Para agregar, posso testar usar a variância ou alguma outra métrica.\r\n",
        "\r\n"
      ]
    },
    {
      "cell_type": "code",
      "metadata": {
        "id": "kpgqeM9ANlw2",
        "colab": {
          "base_uri": "https://localhost:8080/"
        },
        "outputId": "5bb07bad-d150-46f6-c7f9-2c4e7970dddc"
      },
      "source": [
        "###########################################################################\r\n",
        "######################## --- Manipulando Dados --- ########################\r\n",
        "###########################################################################\r\n",
        "\r\n",
        "#######\r\n",
        "# CBI #\r\n",
        "#######\r\n",
        "\r\n",
        "# Renomeando coluna, preparando pro merge\r\n",
        "cbi.rename(columns={'cname':'country'}, inplace=True)\r\n",
        "\r\n",
        "# Calculando a média entre os anos, renomeando e acrescentando o código do país\r\n",
        "cbi2 = pd.merge(cbi, countries_code3, on='country', how='left')\r\n",
        "cbi2 = cbi2.groupby('countrycode').mean()\r\n",
        "cbi2 = cbi2.rename_axis('countrycode').reset_index()\r\n",
        "\r\n",
        "# Selecionando apenas as colunas que interessam\r\n",
        "cbi2 = cbi2[['countrycode', 'lvau_garriga', 'lvaw_garriga']]\r\n",
        "\r\n",
        "\r\n",
        "####################################################\r\n",
        "# Verificando consistencia nos dados após agregação\r\n",
        "####################################################\r\n",
        "\r\n",
        "# Apenas deixo nomes de países unicos\r\n",
        "teste = cbi.groupby('country').mean().rename_axis('country').reset_index()\r\n",
        "\r\n",
        "# Possuo 191 nomes de países\r\n",
        "print('Checando quantos nomes únicos de países tenho')\r\n",
        "print(len(teste))\r\n",
        "print()\r\n",
        "\r\n",
        "# Selecionando variáveis que serão mais faceis de visualizar\r\n",
        "teste = teste[['country', 'lvaw_garriga']]\r\n",
        "\r\n",
        "# Left-Join com o dicionário. Assim, consigo ver os nomes dos países e os códigos (duplicados)\r\n",
        "teste = pd.merge(teste, countries_code3, on='country', how='left')\r\n",
        "\r\n",
        "# Verificando quais são os países duplicados. Em geral, sao países que mudaram de nome\r\n",
        "dups = [x for x in teste['countrycode'].tolist() if teste['countrycode'].tolist().count(x) > 1]\r\n",
        "\r\n",
        "# Países excluídos pq estão duplicados: 8\r\n",
        "print('Checando quantos códigos de países tenho duplicados (país com mais de uma grafia)')\r\n",
        "print(len(dups) - len( list(set(dups) ) ))\r\n",
        "print()\r\n",
        "\r\n",
        "\r\n",
        "print('Checando se a diferença no tamanho dos datasets sao devido aos países duplicados')\r\n",
        "print(len(teste) - len(cbi2) == len(dups) - len( list(set(dups) ) ))\r\n",
        "\r\n",
        "# Passa a ter 182 países\r\n",
        "# Eu perco 8 por causa de mudança de nome: apenas deixo 1 de cada grupo abaixo\r\n",
        "\r\n",
        "\r\n",
        "# Bosnia and Herzegovina\r\n",
        "# Bosnia-Herzegovina\r\n",
        "\r\n",
        "\r\n",
        "# Congo, Republic of\r\n",
        "# Zaire\r\n",
        "\r\n",
        "\r\n",
        "# Ethiopia\r\n",
        "# Ethiopia (incl. Eritrea)\r\n",
        "\r\n",
        "\r\n",
        "# Myanmar\r\n",
        "# Myanmar (Burma)\r\n",
        "\r\n",
        "\r\n",
        "# Serbia and Montenegro\r\n",
        "# Yugoslavia (Serbia-Montenegro)\r\n",
        "# Yugoslavia (Socialist Rep)\r\n",
        "\r\n",
        "# Yemen\r\n",
        "# Yemen, North\r\n",
        "# Yemen, North/Yemen Arab Rep.\r\n"
      ],
      "execution_count": 31,
      "outputs": [
        {
          "output_type": "stream",
          "text": [
            "Checando quantos nomes únicos de países tenho\n",
            "191\n",
            "Checando quantos códigos de países tenho duplicados (país com mais de uma grafia)\n",
            "8\n",
            "Checando se a diferença no tamanho dos datasets sao devido aos países duplicados\n",
            "True\n"
          ],
          "name": "stdout"
        }
      ]
    },
    {
      "cell_type": "code",
      "metadata": {
        "colab": {
          "base_uri": "https://localhost:8080/"
        },
        "id": "AsKBWzyep7a5",
        "outputId": "a88e38e9-bca5-458c-9cf5-a9c8ae649bf0"
      },
      "source": [
        "#######\r\n",
        "# PWT #\r\n",
        "#######\r\n",
        "\r\n",
        "# Renomeando coluna, preparando pro merge\r\n",
        "fr.rename(columns={'Country':'country'}, inplace = True)\r\n",
        "\r\n",
        "# - Alerta: Varias células indicam 'NAN' (não havia regra fiscal no momento). Poderia mudar para 0?\r\n",
        "# Sim. Os papers que constroem indices de regras fiscais mudam para 0.\r\n",
        "fr2  = fr[:]\r\n",
        "fr2[['stab_n', 'stab_s']]  = fr2[['stab_n', 'stab_s']].fillna(0)\r\n",
        "\r\n",
        "\r\n",
        "# Calculando a média entre os anos, renomeando e acrescentando o código do país\r\n",
        "fr2  = pd.merge(fr2, countries_code3, on='country', how='left')\r\n",
        "fr2  = fr2.groupby('countrycode').mean()\r\n",
        "fr2  = fr2.rename_axis('countrycode').reset_index()\r\n",
        "\r\n",
        "\r\n",
        "# Selecionando apenas as colunas que indicam regra fiscal que estabiliza ou nao o ciclo\r\n",
        "fr2[['stab_n', 'stab_s']] = fr2[['stab_n', 'stab_s']].fillna(0)\r\n",
        "fr2  = fr2[['countrycode', 'stab_n', 'stab_s']]\r\n",
        "\r\n",
        "\r\n",
        "####################################################\r\n",
        "# Verificando consistencia nos dados após agregação\r\n",
        "####################################################\r\n",
        "\r\n",
        "# Apenas deixo nomes de países unicos\r\n",
        "teste  = fr[:]\r\n",
        "teste[['stab_n', 'stab_s']]  = teste[['stab_n', 'stab_s']].fillna(0)\r\n",
        "teste = teste.groupby('country').mean().rename_axis('country').reset_index()\r\n",
        "\r\n",
        "# Possuo 76 nomes de países\r\n",
        "print('Checando quantos nomes únicos de países tenho')\r\n",
        "print(len(teste))\r\n",
        "print()\r\n",
        "\r\n",
        "# Selecionando variáveis que serão mais faceis de visualizar\r\n",
        "teste = teste[['country', 'stab_n']]\r\n",
        "\r\n",
        "# Fazendo o left-join\r\n",
        "teste = pd.merge(teste, countries_code3, on='country', how='left')\r\n",
        "\r\n",
        "# Verificando quais são os países duplicados. Em geral, sao países que mudaram de nome\r\n",
        "dups = [x for x in teste['countrycode'].tolist() if teste['countrycode'].tolist().count(x) > 1]\r\n",
        "\r\n",
        "# Países excluídos pq estão duplicados: 0\r\n",
        "print('Checando quantos códigos de países tenho duplicados (país com mais de uma grafia)')\r\n",
        "print(len(dups) - len( list(set(dups) ) ))\r\n",
        "print()\r\n",
        "\r\n",
        "\r\n",
        "# Verificando se a diferença no tamanho dos datasets sao devido aos países duplicados\r\n",
        "print('Checando se a diferença no tamanho dos datasets sao devido aos países duplicados')\r\n",
        "print(len(teste) - len(fr2) == len(dups) - len( list(set(dups) ) ))"
      ],
      "execution_count": 32,
      "outputs": [
        {
          "output_type": "stream",
          "text": [
            "Checando quantos nomes únicos de países tenho\n",
            "96\n",
            "Checando quantos códigos de países tenho duplicados (país com mais de uma grafia)\n",
            "0\n",
            "Checando se a diferença no tamanho dos datasets sao devido aos países duplicados\n",
            "True\n"
          ],
          "name": "stdout"
        }
      ]
    },
    {
      "cell_type": "code",
      "metadata": {
        "colab": {
          "base_uri": "https://localhost:8080/",
          "height": 359
        },
        "id": "7jJAN_v1p9vM",
        "outputId": "a94a881f-1dfc-4dfc-e312-7512afda3830"
      },
      "source": [
        "# Calculando a média entre os anos e renomeando\r\n",
        "pwt['gdp_percapta'] = pwt['csh_c']/pwt['pop']\r\n",
        "pwt['emp_pop'] = pwt['emp']/pwt['pop']\r\n",
        "pwt2 = pwt.groupby('countrycode').mean()\r\n",
        "pwt2 = pwt2.rename_axis('countrycode').reset_index()\r\n",
        "\r\n",
        "# Selecionando pib per capita, PO, horas trabalhadas média por pessoa, Human capital index\r\n",
        "# Welfare-relevant TFP, Share of labour compensation in GDP\r\n",
        "pwt2 = pwt2[['countrycode', 'gdp_percapta', 'emp_pop', 'avh', 'hc', 'rwtfpna', 'labsh']]\r\n",
        "\r\n",
        "\r\n",
        "################################################################\r\n",
        "\r\n",
        "# Renomenado a coluna Code\r\n",
        "ipd2 = ipd[:]\r\n",
        "ipd2.rename(columns={'Code':'countrycode'}, inplace=True)\r\n",
        "ipd2 = ipd2.drop(['Country', 'Year', 'Income level', 'Region'], axis = 1)\r\n",
        "\r\n",
        "################################################################\r\n",
        "\r\n",
        "# Juntando todas as variáveis em um único dataframe\r\n",
        "dataframe = pd.merge( cbi2, fr2, on ='countrycode', how='outer')\r\n",
        "dataframe = pd.merge( dataframe, pwt2, on='countrycode', how='outer')\r\n",
        "dataframe = pd.merge( dataframe, ipd2, on='countrycode', how='outer')\r\n",
        "\r\n",
        "# Os países que nao tem FR nao aparecem nesse banco de dados\r\n",
        "dataframe[['stab_n', 'stab_s']] = dataframe[['stab_n', 'stab_s']].fillna(0)\r\n",
        "\r\n",
        "dataframe[['countrycode', 'gdp_percapta']].head( n = 10)"
      ],
      "execution_count": 33,
      "outputs": [
        {
          "output_type": "execute_result",
          "data": {
            "text/html": [
              "<div>\n",
              "<style scoped>\n",
              "    .dataframe tbody tr th:only-of-type {\n",
              "        vertical-align: middle;\n",
              "    }\n",
              "\n",
              "    .dataframe tbody tr th {\n",
              "        vertical-align: top;\n",
              "    }\n",
              "\n",
              "    .dataframe thead th {\n",
              "        text-align: right;\n",
              "    }\n",
              "</style>\n",
              "<table border=\"1\" class=\"dataframe\">\n",
              "  <thead>\n",
              "    <tr style=\"text-align: right;\">\n",
              "      <th></th>\n",
              "      <th>countrycode</th>\n",
              "      <th>gdp_percapta</th>\n",
              "    </tr>\n",
              "  </thead>\n",
              "  <tbody>\n",
              "    <tr>\n",
              "      <th>0</th>\n",
              "      <td>AFG</td>\n",
              "      <td>NaN</td>\n",
              "    </tr>\n",
              "    <tr>\n",
              "      <th>1</th>\n",
              "      <td>AGO</td>\n",
              "      <td>0.031580</td>\n",
              "    </tr>\n",
              "    <tr>\n",
              "      <th>2</th>\n",
              "      <td>ALB</td>\n",
              "      <td>0.256826</td>\n",
              "    </tr>\n",
              "    <tr>\n",
              "      <th>3</th>\n",
              "      <td>ARE</td>\n",
              "      <td>0.161813</td>\n",
              "    </tr>\n",
              "    <tr>\n",
              "      <th>4</th>\n",
              "      <td>ARG</td>\n",
              "      <td>0.025891</td>\n",
              "    </tr>\n",
              "    <tr>\n",
              "      <th>5</th>\n",
              "      <td>ARM</td>\n",
              "      <td>0.244836</td>\n",
              "    </tr>\n",
              "    <tr>\n",
              "      <th>6</th>\n",
              "      <td>ATG</td>\n",
              "      <td>10.170944</td>\n",
              "    </tr>\n",
              "    <tr>\n",
              "      <th>7</th>\n",
              "      <td>AUS</td>\n",
              "      <td>0.040376</td>\n",
              "    </tr>\n",
              "    <tr>\n",
              "      <th>8</th>\n",
              "      <td>AUT</td>\n",
              "      <td>0.079310</td>\n",
              "    </tr>\n",
              "    <tr>\n",
              "      <th>9</th>\n",
              "      <td>AZE</td>\n",
              "      <td>0.058354</td>\n",
              "    </tr>\n",
              "  </tbody>\n",
              "</table>\n",
              "</div>"
            ],
            "text/plain": [
              "  countrycode  gdp_percapta\n",
              "0         AFG           NaN\n",
              "1         AGO      0.031580\n",
              "2         ALB      0.256826\n",
              "3         ARE      0.161813\n",
              "4         ARG      0.025891\n",
              "5         ARM      0.244836\n",
              "6         ATG     10.170944\n",
              "7         AUS      0.040376\n",
              "8         AUT      0.079310\n",
              "9         AZE      0.058354"
            ]
          },
          "metadata": {
            "tags": []
          },
          "execution_count": 33
        }
      ]
    },
    {
      "cell_type": "code",
      "metadata": {
        "colab": {
          "base_uri": "https://localhost:8080/"
        },
        "id": "aiz3AKQwsPaT",
        "outputId": "4622e3c9-46d1-42ec-d495-fa626926edfc"
      },
      "source": [
        "###############################################################\r\n",
        "\r\n",
        "# Verificando quais são os países duplicados. Em geral, sao países que mudaram de nome\r\n",
        "dups = [x for x in dataframe['countrycode'].tolist() if dataframe['countrycode'].tolist().count(x) > 1]\r\n",
        "\r\n",
        "# Total de países no meu dataframe final: 198\r\n",
        "paises1 = dataframe.drop_duplicates('countrycode', keep = 'first')\r\n",
        "print('Checando quantos países únicos tenho na base final')\r\n",
        "print(len(paises1))\r\n",
        "print()\r\n",
        "\r\n",
        "# Zero países duplicados, o que é bom indicio\r\n",
        "print('Checando quantos duplicados')\r\n",
        "print(len(dups))\r\n",
        "print('Checando quais duplicados')\r\n",
        "print(dups)\r\n",
        "print()\r\n",
        "\r\n",
        "# Verificando o total de países: 198\r\n",
        "paises2 = countries_code3.drop_duplicates('countrycode', keep = 'first')\r\n",
        "print('Total de países no dicionário')\r\n",
        "print(len(paises2))\r\n",
        "print()\r\n",
        "\r\n",
        "print('Todos os países estão no dicionário?')\r\n",
        "print(len(paises1)) == print(len(paises2))"
      ],
      "execution_count": 38,
      "outputs": [
        {
          "output_type": "stream",
          "text": [
            "Checando quantos países únicos tenho na base final\n",
            "198\n",
            "\n",
            "Checando quantos duplicados\n",
            "0\n",
            "Checando quais duplicados\n",
            "[]\n",
            "\n",
            "Total de países no dicionário\n",
            "198\n",
            "\n",
            "Todos os países estão no dicionário?\n",
            "198\n",
            "198\n"
          ],
          "name": "stdout"
        },
        {
          "output_type": "execute_result",
          "data": {
            "text/plain": [
              "True"
            ]
          },
          "metadata": {
            "tags": []
          },
          "execution_count": 38
        }
      ]
    },
    {
      "cell_type": "markdown",
      "metadata": {
        "id": "UirWcaZiP3DV"
      },
      "source": [
        "#4) Exportando "
      ]
    },
    {
      "cell_type": "code",
      "metadata": {
        "colab": {
          "base_uri": "https://localhost:8080/",
          "height": 17
        },
        "id": "O1NOy9pdNqeQ",
        "outputId": "3f2cd05f-c032-460e-e80c-ca2c76d00f41"
      },
      "source": [
        "# Exportanto dados\r\n",
        "\r\n",
        "dataframe.to_csv('countries_data.csv')\r\n",
        "files.download('countries_data.csv')"
      ],
      "execution_count": 36,
      "outputs": [
        {
          "output_type": "display_data",
          "data": {
            "application/javascript": [
              "\n",
              "    async function download(id, filename, size) {\n",
              "      if (!google.colab.kernel.accessAllowed) {\n",
              "        return;\n",
              "      }\n",
              "      const div = document.createElement('div');\n",
              "      const label = document.createElement('label');\n",
              "      label.textContent = `Downloading \"${filename}\": `;\n",
              "      div.appendChild(label);\n",
              "      const progress = document.createElement('progress');\n",
              "      progress.max = size;\n",
              "      div.appendChild(progress);\n",
              "      document.body.appendChild(div);\n",
              "\n",
              "      const buffers = [];\n",
              "      let downloaded = 0;\n",
              "\n",
              "      const channel = await google.colab.kernel.comms.open(id);\n",
              "      // Send a message to notify the kernel that we're ready.\n",
              "      channel.send({})\n",
              "\n",
              "      for await (const message of channel.messages) {\n",
              "        // Send a message to notify the kernel that we're ready.\n",
              "        channel.send({})\n",
              "        if (message.buffers) {\n",
              "          for (const buffer of message.buffers) {\n",
              "            buffers.push(buffer);\n",
              "            downloaded += buffer.byteLength;\n",
              "            progress.value = downloaded;\n",
              "          }\n",
              "        }\n",
              "      }\n",
              "      const blob = new Blob(buffers, {type: 'application/binary'});\n",
              "      const a = document.createElement('a');\n",
              "      a.href = window.URL.createObjectURL(blob);\n",
              "      a.download = filename;\n",
              "      div.appendChild(a);\n",
              "      a.click();\n",
              "      div.remove();\n",
              "    }\n",
              "  "
            ],
            "text/plain": [
              "<IPython.core.display.Javascript object>"
            ]
          },
          "metadata": {
            "tags": []
          }
        },
        {
          "output_type": "display_data",
          "data": {
            "application/javascript": [
              "download(\"download_20624390-8fd3-478f-a616-53db99930a59\", \"countries_data.csv\", 225484)"
            ],
            "text/plain": [
              "<IPython.core.display.Javascript object>"
            ]
          },
          "metadata": {
            "tags": []
          }
        }
      ]
    }
  ]
}