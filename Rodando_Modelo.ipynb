{
  "nbformat": 4,
  "nbformat_minor": 0,
  "metadata": {
    "colab": {
      "name": "Rodando_Modelo",
      "provenance": [],
      "authorship_tag": "ABX9TyMSOyBf21EZCncUMOQc8Kbt",
      "include_colab_link": true
    },
    "kernelspec": {
      "name": "python3",
      "display_name": "Python 3"
    }
  },
  "cells": [
    {
      "cell_type": "markdown",
      "metadata": {
        "id": "view-in-github",
        "colab_type": "text"
      },
      "source": [
        "<a href=\"https://colab.research.google.com/github/lucasestrela/Dissertacao/blob/main/Rodando_Modelo.ipynb\" target=\"_parent\"><img src=\"https://colab.research.google.com/assets/colab-badge.svg\" alt=\"Open In Colab\"/></a>"
      ]
    },
    {
      "cell_type": "markdown",
      "metadata": {
        "id": "StHh5qalrpVe"
      },
      "source": [
        "# 1) Importando pacotes"
      ]
    },
    {
      "cell_type": "code",
      "metadata": {
        "colab": {
          "base_uri": "https://localhost:8080/"
        },
        "id": "kgTOipfXq_2G",
        "outputId": "e9c820d9-a51f-486e-9eaa-b6bb80a1a772"
      },
      "source": [
        "import pandas as pd\r\n",
        "import statsmodels.api as sm\r\n",
        "import numpy as np"
      ],
      "execution_count": 2,
      "outputs": [
        {
          "output_type": "stream",
          "text": [
            "/usr/local/lib/python3.7/dist-packages/statsmodels/tools/_testing.py:19: FutureWarning: pandas.util.testing is deprecated. Use the functions in the public API at pandas.testing instead.\n",
            "  import pandas.util.testing as tm\n"
          ],
          "name": "stderr"
        }
      ]
    },
    {
      "cell_type": "markdown",
      "metadata": {
        "id": "VbUJhBD0rltd"
      },
      "source": [
        "# 2) Importando os dados\r\n",
        "\r\n",
        "Irei utilizar os custos do ciclo calculados e as informações dos países."
      ]
    },
    {
      "cell_type": "code",
      "metadata": {
        "id": "gGz8F4U1rP4r"
      },
      "source": [
        "#############################################################################\r\n",
        "######################## --- Lendo Base de Dados --- ########################\r\n",
        "#############################################################################\r\n",
        "custo = pd.read_csv('https://raw.githubusercontent.com/lucasestrela/Dissertacao/main/Dados/custos_data.csv',\r\n",
        "                    header = 0,\r\n",
        "                    index_col = 0\r\n",
        "                    )\r\n",
        "\r\n",
        "\r\n",
        "dados_paises = pd.read_csv('https://raw.githubusercontent.com/lucasestrela/Dissertacao/main/Dados/countries_data.csv',\r\n",
        "                    header = 0,\r\n",
        "                    index_col = 0\r\n",
        "                    )"
      ],
      "execution_count": 3,
      "outputs": []
    },
    {
      "cell_type": "markdown",
      "metadata": {
        "id": "20-je2OFruor"
      },
      "source": [
        "Faço o merge dos dataframes"
      ]
    },
    {
      "cell_type": "code",
      "metadata": {
        "id": "h68DlXAlRuFJ"
      },
      "source": [
        "# Fazendo o merge dos dois datasets\r\n",
        "dataframe = pd.merge(custo, dados_paises, on='countrycode', left_index=True, right_index=True, how='left')\r\n",
        "dataframe[['log_gdp_percapta', 'log_emp_pop', 'log_labsh']] = np.log(dataframe[['gdp_percapta', 'emp_pop', 'labsh']])\r\n",
        "\r\n",
        "# Apagando as outras variáveis\r\n",
        "del custo, dados_paises"
      ],
      "execution_count": 4,
      "outputs": []
    },
    {
      "cell_type": "markdown",
      "metadata": {
        "id": "4HrMckGYr_JT"
      },
      "source": [
        "# 3) Rodando o Modelo\r\n",
        "\r\n",
        "Para o python, é válido separar as variáveis entre X (covariadas) e y (variável independente) em dois dataframes separados."
      ]
    },
    {
      "cell_type": "code",
      "metadata": {
        "colab": {
          "base_uri": "https://localhost:8080/"
        },
        "id": "i3wrzSq9SFDL",
        "outputId": "d66d00e3-264c-43bd-cf1c-263029751184"
      },
      "source": [
        "##############################################################################\r\n",
        "######################## --- Separando covariadas --- ########################\r\n",
        "##############################################################################\r\n",
        "\r\n",
        "# X = dataframe[['lvaw_garriga', 'stab_n', 'stab_s', 'gdp_percapta', 'emp_pop', 'avh', 'hc', 'rwtfpna', 'labsh']]\r\n",
        "X = dataframe[['lvaw_garriga', 'stab_n', 'stab_s', 'log_gdp_percapta', 'log_emp_pop', 'log_labsh']]\r\n",
        "X = sm.add_constant(X) ## let's add an intercept (beta_0) to our model\r\n",
        "\r\n",
        "y = dataframe['custo']\r\n",
        "\r\n",
        "\r\n",
        "# Rodando o modelo\r\n",
        "model = sm.OLS(y, X, missing='drop').fit(cov_type='HC0')\r\n",
        "\r\n",
        "# Printando os resultados\r\n",
        "print(model.summary())"
      ],
      "execution_count": 6,
      "outputs": [
        {
          "output_type": "stream",
          "text": [
            "                            OLS Regression Results                            \n",
            "==============================================================================\n",
            "Dep. Variable:                  custo   R-squared:                       0.142\n",
            "Model:                            OLS   Adj. R-squared:                  0.102\n",
            "Method:                 Least Squares   F-statistic:                     1.348\n",
            "Date:                Wed, 10 Mar 2021   Prob (F-statistic):              0.241\n",
            "Time:                        01:09:06   Log-Likelihood:                -813.22\n",
            "No. Observations:                 135   AIC:                             1640.\n",
            "Df Residuals:                     128   BIC:                             1661.\n",
            "Df Model:                           6                                         \n",
            "Covariance Type:                  HC0                                         \n",
            "====================================================================================\n",
            "                       coef    std err          z      P>|z|      [0.025      0.975]\n",
            "------------------------------------------------------------------------------------\n",
            "const              -78.2428    108.066     -0.724      0.469    -290.048     133.562\n",
            "lvaw_garriga      -115.3149     89.599     -1.287      0.198    -290.926      60.297\n",
            "stab_n             -47.1441     34.267     -1.376      0.169    -114.306      20.017\n",
            "stab_s              53.3484     93.517      0.570      0.568    -129.942     236.639\n",
            "log_gdp_percapta    -0.2246      4.057     -0.055      0.956      -8.176       7.727\n",
            "log_emp_pop       -111.6868     58.140     -1.921      0.055    -225.639       2.265\n",
            "log_labsh          -91.9595     68.015     -1.352      0.176    -225.266      41.347\n",
            "==============================================================================\n",
            "Omnibus:                      165.725   Durbin-Watson:                   1.861\n",
            "Prob(Omnibus):                  0.000   Jarque-Bera (JB):             4383.766\n",
            "Skew:                           4.700   Prob(JB):                         0.00\n",
            "Kurtosis:                      29.286   Cond. No.                         31.1\n",
            "==============================================================================\n",
            "\n",
            "Warnings:\n",
            "[1] Standard Errors are heteroscedasticity robust (HC0)\n"
          ],
          "name": "stdout"
        }
      ]
    }
  ]
}