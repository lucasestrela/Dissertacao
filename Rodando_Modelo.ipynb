{
  "nbformat": 4,
  "nbformat_minor": 0,
  "metadata": {
    "colab": {
      "name": "Rodando_Modelo",
      "provenance": [],
      "authorship_tag": "ABX9TyNE0e6V89Ka8hyA7JnVNTBd",
      "include_colab_link": true
    },
    "kernelspec": {
      "name": "python3",
      "display_name": "Python 3"
    }
  },
  "cells": [
    {
      "cell_type": "markdown",
      "metadata": {
        "id": "view-in-github",
        "colab_type": "text"
      },
      "source": [
        "<a href=\"https://colab.research.google.com/github/lucasestrela/Dissertacao/blob/main/Rodando_Modelo.ipynb\" target=\"_parent\"><img src=\"https://colab.research.google.com/assets/colab-badge.svg\" alt=\"Open In Colab\"/></a>"
      ]
    },
    {
      "cell_type": "markdown",
      "metadata": {
        "id": "StHh5qalrpVe"
      },
      "source": [
        "# 1) Importando pacotes"
      ]
    },
    {
      "cell_type": "code",
      "metadata": {
        "colab": {
          "base_uri": "https://localhost:8080/"
        },
        "id": "kgTOipfXq_2G",
        "outputId": "23c6610a-2b05-4cf7-beed-1327fb11ca11"
      },
      "source": [
        "import pandas as pd\r\n",
        "import statsmodels.api as sm\r\n",
        "import numpy as np"
      ],
      "execution_count": 1,
      "outputs": [
        {
          "output_type": "stream",
          "text": [
            "/usr/local/lib/python3.7/dist-packages/statsmodels/tools/_testing.py:19: FutureWarning: pandas.util.testing is deprecated. Use the functions in the public API at pandas.testing instead.\n",
            "  import pandas.util.testing as tm\n"
          ],
          "name": "stderr"
        }
      ]
    },
    {
      "cell_type": "markdown",
      "metadata": {
        "id": "VbUJhBD0rltd"
      },
      "source": [
        "# 2) Importando os dados\r\n",
        "\r\n",
        "Irei utilizar os custos do ciclo calculados e as informações dos países."
      ]
    },
    {
      "cell_type": "code",
      "metadata": {
        "id": "gGz8F4U1rP4r"
      },
      "source": [
        "#############################################################################\r\n",
        "######################## --- Lendo Base de Dados --- ########################\r\n",
        "#############################################################################\r\n",
        "custo = pd.read_csv('https://raw.githubusercontent.com/lucasestrela/Dissertacao/main/Dados/custos_data.csv',\r\n",
        "                    header = 0,\r\n",
        "                    index_col = 0\r\n",
        "                    )\r\n",
        "\r\n",
        "\r\n",
        "dados_paises = pd.read_csv('https://raw.githubusercontent.com/lucasestrela/Dissertacao/main/Dados/countries_data.csv',\r\n",
        "                    header = 0,\r\n",
        "                    index_col = 0\r\n",
        "                    )"
      ],
      "execution_count": 5,
      "outputs": []
    },
    {
      "cell_type": "markdown",
      "metadata": {
        "id": "20-je2OFruor"
      },
      "source": [
        "Faço o merge dos dataframes"
      ]
    },
    {
      "cell_type": "code",
      "metadata": {
        "id": "h68DlXAlRuFJ"
      },
      "source": [
        "# Fazendo o merge dos dois datasets\r\n",
        "dataframe = pd.merge(custo, dados_paises, on='countrycode', left_index=True, right_index=True, how='left')\r\n",
        "dataframe[['log_gdp_percapta', 'log_emp_pop', 'log_labsh']] = np.log(dataframe[['gdp_percapta', 'emp_pop', 'labsh']])\r\n",
        "\r\n",
        "# Apagando as outras variáveis\r\n",
        "del custo, dados_paises"
      ],
      "execution_count": 6,
      "outputs": []
    },
    {
      "cell_type": "code",
      "metadata": {
        "id": "j8VvpaEmA3Nd",
        "outputId": "d66393a8-89fa-4a2e-de0c-aad303131440",
        "colab": {
          "base_uri": "https://localhost:8080/"
        }
      },
      "source": [
        "dataframe['custo']"
      ],
      "execution_count": 8,
      "outputs": [
        {
          "output_type": "execute_result",
          "data": {
            "text/plain": [
              "0        3.629999\n",
              "1       69.708880\n",
              "2       48.805136\n",
              "3             NaN\n",
              "4       76.796450\n",
              "          ...    \n",
              "178      7.100896\n",
              "179     28.649199\n",
              "180      1.150329\n",
              "181     24.514667\n",
              "182    573.362084\n",
              "Name: custo, Length: 183, dtype: float64"
            ]
          },
          "metadata": {
            "tags": []
          },
          "execution_count": 8
        }
      ]
    },
    {
      "cell_type": "markdown",
      "metadata": {
        "id": "4HrMckGYr_JT"
      },
      "source": [
        "# 3) Rodando o Modelo\r\n",
        "\r\n",
        "Para o python, é válido separar as variáveis entre X (covariadas) e y (variável independente) em dois dataframes separados."
      ]
    },
    {
      "cell_type": "code",
      "metadata": {
        "colab": {
          "base_uri": "https://localhost:8080/"
        },
        "id": "i3wrzSq9SFDL",
        "outputId": "20a5fa8c-1da1-4942-9a53-ffc06c2918e3"
      },
      "source": [
        "##############################################################################\r\n",
        "######################## --- Separando covariadas --- ########################\r\n",
        "##############################################################################\r\n",
        "\r\n",
        "# X = dataframe[['lvaw_garriga', 'stab_n', 'stab_s', 'gdp_percapta', 'emp_pop', 'avh', 'hc', 'rwtfpna', 'labsh']]\r\n",
        "X = dataframe[['lvaw_garriga', 'stab_n', 'stab_s', 'log_gdp_percapta', 'log_emp_pop', 'log_labsh']]\r\n",
        "X = sm.add_constant(X) ## let's add an intercept (beta_0) to our model\r\n",
        "\r\n",
        "y = dataframe['custo']\r\n",
        "\r\n",
        "\r\n",
        "# Rodando o modelo\r\n",
        "model = sm.OLS(y, X, missing='drop').fit(cov_type='HC0')\r\n",
        "\r\n",
        "# Printando os resultados\r\n",
        "print(model.summary())"
      ],
      "execution_count": 7,
      "outputs": [
        {
          "output_type": "stream",
          "text": [
            "                            OLS Regression Results                            \n",
            "==============================================================================\n",
            "Dep. Variable:                  custo   R-squared:                       0.189\n",
            "Model:                            OLS   Adj. R-squared:                  0.150\n",
            "Method:                 Least Squares   F-statistic:                    0.2516\n",
            "Date:                Wed, 10 Mar 2021   Prob (F-statistic):              0.958\n",
            "Time:                        02:42:12   Log-Likelihood:                -2309.1\n",
            "No. Observations:                 131   AIC:                             4632.\n",
            "Df Residuals:                     124   BIC:                             4652.\n",
            "Df Model:                           6                                         \n",
            "Covariance Type:                  HC0                                         \n",
            "====================================================================================\n",
            "                       coef    std err          z      P>|z|      [0.025      0.975]\n",
            "------------------------------------------------------------------------------------\n",
            "const            -1.798e+07   1.48e+07     -1.214      0.225    -4.7e+07     1.1e+07\n",
            "lvaw_garriga     -3.626e+06   4.31e+06     -0.841      0.400   -1.21e+07    4.82e+06\n",
            "stab_n           -5.546e+06   5.59e+06     -0.992      0.321   -1.65e+07    5.41e+06\n",
            "stab_s            1.991e+07   1.69e+07      1.176      0.240   -1.33e+07    5.31e+07\n",
            "log_gdp_percapta -5.673e+05   5.07e+05     -1.118      0.263   -1.56e+06    4.27e+05\n",
            "log_emp_pop      -1.024e+07    8.5e+06     -1.204      0.229   -2.69e+07    6.43e+06\n",
            "log_labsh        -1.344e+07   1.11e+07     -1.210      0.226   -3.52e+07    8.34e+06\n",
            "==============================================================================\n",
            "Omnibus:                      238.649   Durbin-Watson:                   2.178\n",
            "Prob(Omnibus):                  0.000   Jarque-Bera (JB):            38068.789\n",
            "Skew:                           8.155   Prob(JB):                         0.00\n",
            "Kurtosis:                      84.905   Cond. No.                         31.7\n",
            "==============================================================================\n",
            "\n",
            "Warnings:\n",
            "[1] Standard Errors are heteroscedasticity robust (HC0)\n"
          ],
          "name": "stdout"
        }
      ]
    }
  ]
}